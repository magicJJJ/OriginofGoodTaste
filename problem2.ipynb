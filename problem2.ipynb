{
 "cells": [
  {
   "cell_type": "code",
   "execution_count": 1,
   "metadata": {
    "collapsed": false
   },
   "outputs": [
    {
     "name": "stderr",
     "output_type": "stream",
     "text": [
      "/Users/sjiang/anaconda/lib/python3.5/site-packages/IPython/core/interactiveshell.py:2723: DtypeWarning: Columns (29) have mixed types. Specify dtype option on import or set low_memory=False.\n",
      "  interactivity=interactivity, compiler=compiler, result=result)\n"
     ]
    }
   ],
   "source": [
    "import pandas as pd\n",
    "import numpy as np\n",
    "DF=pd.read_csv('Historic_Secured_Property_Tax_Rolls.csv')"
   ]
  },
  {
   "cell_type": "code",
   "execution_count": 6,
   "metadata": {
    "collapsed": false
   },
   "outputs": [
    {
     "data": {
      "text/plain": [
       "(1612110, 43)"
      ]
     },
     "execution_count": 6,
     "metadata": {},
     "output_type": "execute_result"
    }
   ],
   "source": [
    "DF.shape"
   ]
  },
  {
   "cell_type": "code",
   "execution_count": 3,
   "metadata": {
    "collapsed": false
   },
   "outputs": [
    {
     "data": {
      "text/plain": [
       "Index(['Closed Roll Fiscal Year', 'Property Location', 'Neighborhood Code',\n",
       "       'Neighborhood Code Definition', 'Block and Lot Number', 'Volume Number',\n",
       "       'Property Class Code', 'Property Class Code Definition',\n",
       "       'Year Property Built', 'Number of Bathrooms', 'Number of Bedrooms',\n",
       "       'Number of Rooms', 'Number of Stories', 'Number of Units',\n",
       "       'Characteristics Change Date', 'Zoning Code', 'Construction Type',\n",
       "       'Lot Depth', 'Lot Frontage', 'Property Area in Square Feet',\n",
       "       'Basement Area', 'Lot Area', 'Lot Code', 'Prior Sales Date',\n",
       "       'Recordation Date', 'Document Number', 'Document Number 2',\n",
       "       'Tax Rate Area Code', 'Percent of Ownership',\n",
       "       'Closed Roll Exemption Type Code',\n",
       "       'Closed Roll Exemption Type Code Definition', 'Closed Roll Status Code',\n",
       "       'Closed Roll Misc Exemption Value',\n",
       "       'Closed Roll Homeowner Exemption Value', 'Current Sales Date',\n",
       "       'Closed Roll Assessed Fixtures Value',\n",
       "       'Closed Roll Assessed Improvement Value',\n",
       "       'Closed Roll Assessed Land Value',\n",
       "       'Closed Roll Assessed Personal Prop Value', 'Zipcode of Parcel',\n",
       "       'Supervisor District', 'Neighborhoods - Analysis Boundaries',\n",
       "       'Location'],\n",
       "      dtype='object')"
      ]
     },
     "execution_count": 3,
     "metadata": {},
     "output_type": "execute_result"
    }
   ],
   "source": [
    "DF.columns"
   ]
  },
  {
   "cell_type": "code",
   "execution_count": 31,
   "metadata": {
    "collapsed": false
   },
   "outputs": [
    {
     "data": {
      "text/plain": [
       "0.46165190314095622"
      ]
     },
     "execution_count": 31,
     "metadata": {},
     "output_type": "execute_result"
    }
   ],
   "source": [
    "#pr1\n",
    "DF1=DF[DF['Closed Roll Fiscal Year']==2014]\n",
    "pr1=DF1['Property Class Code'].value_counts().sort_values(ascending=False)\n",
    "pr1[0]/DF1.shape[0]"
   ]
  },
  {
   "cell_type": "code",
   "execution_count": 53,
   "metadata": {
    "collapsed": false
   },
   "outputs": [
    {
     "data": {
      "text/plain": [
       "95477"
      ]
     },
     "execution_count": 53,
     "metadata": {},
     "output_type": "execute_result"
    }
   ],
   "source": [
    "DF1.groupby(['Property Class Code']).size().sort_values(ascending=False)"
   ]
  },
  {
   "cell_type": "code",
   "execution_count": 42,
   "metadata": {
    "collapsed": false
   },
   "outputs": [
    {
     "name": "stdout",
     "output_type": "stream",
     "text": [
      "206816\n",
      "198519\n",
      "median is 207147.0\n"
     ]
    }
   ],
   "source": [
    "#pr2\n",
    "print(len(DF1))\n",
    "DF2=DF1[DF1[\"Closed Roll Assessed Improvement Value\"]>0]\n",
    "print(len(DF2))\n",
    "DF2array=np.asarray(DF2[\"Closed Roll Assessed Improvement Value\"])\n",
    "DF2array.sort()\n",
    "print('median is',DF2array[(len(DF2)+1)//2])"
   ]
  },
  {
   "cell_type": "code",
   "execution_count": 59,
   "metadata": {
    "collapsed": false
   },
   "outputs": [
    {
     "data": {
      "text/plain": [
       "872394.76587401668"
      ]
     },
     "execution_count": 59,
     "metadata": {},
     "output_type": "execute_result"
    }
   ],
   "source": [
    "#pr3\n",
    "pr3=DF2.groupby(['Neighborhood Code'])['Closed Roll Assessed Improvement Value'].mean()\n",
    "pr3.max()-pr3.min()"
   ]
  },
  {
   "cell_type": "code",
   "execution_count": 273,
   "metadata": {
    "collapsed": false
   },
   "outputs": [],
   "source": [
    "#pr4\n",
    "DF4=DF.groupby('Closed Roll Fiscal Year').size()\n",
    "import math\n",
    "\n",
    "regmod=pd.DataFrame(index=pr3.index)\n",
    "for ind in DF4.index:\n",
    "    DF41=DF[DF['Closed Roll Fiscal Year']==ind]\n",
    "    DF42=DF41[DF41['Closed Roll Assessed Land Value']>0]\n",
    "    temp=DF42.groupby(['Neighborhood Code'])['Closed Roll Assessed Land Value'].mean()\n",
    "    regmod.loc[:,ind]=temp"
   ]
  },
  {
   "cell_type": "code",
   "execution_count": 274,
   "metadata": {
    "collapsed": false
   },
   "outputs": [
    {
     "name": "stdout",
     "output_type": "stream",
     "text": [
      "(87, 8)\n",
      "(83, 8)\n"
     ]
    }
   ],
   "source": [
    "print(regmod.shape)\n",
    "regmod=regmod.dropna()\n",
    "print(regmod.shape)"
   ]
  },
  {
   "cell_type": "code",
   "execution_count": 275,
   "metadata": {
    "collapsed": false
   },
   "outputs": [],
   "source": [
    "regmod_log=np.log(regmod)\n"
   ]
  },
  {
   "cell_type": "code",
   "execution_count": 277,
   "metadata": {
    "collapsed": false
   },
   "outputs": [
    {
     "data": {
      "text/plain": [
       "(83, 8)"
      ]
     },
     "execution_count": 277,
     "metadata": {},
     "output_type": "execute_result"
    }
   ],
   "source": [
    "regmod_log=regmod_log.dropna()\n",
    "regmod_log.shape"
   ]
  },
  {
   "cell_type": "code",
   "execution_count": 278,
   "metadata": {
    "collapsed": false
   },
   "outputs": [],
   "source": [
    "\n",
    "\n",
    "from scipy import linspace, polyval, polyfit, sqrt, stats, randn\n"
   ]
  },
  {
   "cell_type": "code",
   "execution_count": 279,
   "metadata": {
    "collapsed": false
   },
   "outputs": [],
   "source": [
    "temp=np.zeros(0)\n",
    "tempx=np.zeros(0)\n",
    "for ii in range(8):\n",
    "    a1=np.array(regmod_log.iloc[:,ii])\n",
    "    temp=np.hstack((temp,a1))\n",
    "    a2=(ii)*np.ones(regmod_log.shape[0])\n",
    "    tempx=np.hstack((tempx,a2))\n"
   ]
  },
  {
   "cell_type": "code",
   "execution_count": 283,
   "metadata": {
    "collapsed": false
   },
   "outputs": [
    {
     "data": {
      "text/plain": [
       "array([  0.04264462,  12.5593474 ])"
      ]
     },
     "execution_count": 283,
     "metadata": {},
     "output_type": "execute_result"
    }
   ],
   "source": [
    "polyfit(tempx,temp,1)"
   ]
  },
  {
   "cell_type": "code",
   "execution_count": null,
   "metadata": {
    "collapsed": true
   },
   "outputs": [],
   "source": [
    "#pr5\n"
   ]
  }
 ],
 "metadata": {
  "kernelspec": {
   "display_name": "Python 3",
   "language": "python",
   "name": "python3"
  },
  "language_info": {
   "codemirror_mode": {
    "name": "ipython",
    "version": 3
   },
   "file_extension": ".py",
   "mimetype": "text/x-python",
   "name": "python",
   "nbconvert_exporter": "python",
   "pygments_lexer": "ipython3",
   "version": "3.5.1"
  }
 },
 "nbformat": 4,
 "nbformat_minor": 0
}
