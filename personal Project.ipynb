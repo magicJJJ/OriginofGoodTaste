{
 "cells": [
  {
   "cell_type": "code",
   "execution_count": 134,
   "metadata": {
    "collapsed": false
   },
   "outputs": [
    {
     "name": "stdout",
     "output_type": "stream",
     "text": [
      "<li class=\"recipe-ingredients__list-item\" itemprop=\"ingredients\"> 4 x 280g/10oz lamb chump chops</li>\n"
     ]
    }
   ],
   "source": [
    "from lxml import html\n",
    "from bs4 import BeautifulSoup\n",
    "import requests\n",
    "with open(r'/Users/sjiang/Desktop/receipe/auntiesrecipes-master/recipe_download/www_bbc_co_uk_food_recipes_chumpoflambhotpotsty_74658.html', \"r\") as f:\n",
    "    page = f.read()\n",
    "tree = html.fromstring(page)\n",
    "\n",
    "soup = BeautifulSoup(page,\"lxml\")\n",
    "#ul=soup.find(\"ul\",\"recipe-ingredients_list\")\n",
    "soup.title\n",
    "soup.title.name\n",
    "soup.title.string\n",
    "soup.title.parent.name\n",
    "soup.a\n",
    "list1=soup.find('ul','recipe-ingredients__list')\n",
    "#print(list1)\n",
    "list2=list1.find_all('li','recipe-ingredients__list-item')\n",
    "#print(list2)\n",
    "len(list2)\n",
    "print(list2[0])\n",
    "list2[0].name\n",
    "list2[0].attrs\n",
    "list2[0]['class']\n",
    "list2[0]['itemprop']\n",
    "#print(list2[0].contents[0]) #here is the amount\n",
    "#print(list2[0].contents[1].contents[0]) #here is the ingredients\n",
    "\n",
    "import json\n",
    "data={}\n",
    "data['title']=soup.title.string\n",
    "for temp in list2:\n",
    "    \n",
    "    if (len(temp.contents)==1):\n",
    "        if temp.contents==[' ']:\n",
    "            continue\n",
    "        data[temp.contents[0].split()[-1]]=temp.contents[0].split()[0]\n",
    "    else:    \n",
    "        data[temp.contents[1].contents[0]]=temp.contents[0]\n",
    "    \n",
    "    \n",
    "with open('data.json', 'w') as f:\n",
    "    json.dump(data, f)\n",
    "\n",
    "#ul.findall(\"li\")\n",
    "#category_links=[aa+dd.    for dd in ul.findall(\"li\")]"
   ]
  },
  {
   "cell_type": "code",
   "execution_count": 133,
   "metadata": {
    "collapsed": false
   },
   "outputs": [
    {
     "data": {
      "text/plain": [
       "<li class=\"recipe-ingredients__list-item\" itemprop=\"ingredients\"> 4 x 280g/10oz lamb chump chops</li>"
      ]
     },
     "execution_count": 133,
     "metadata": {},
     "output_type": "execute_result"
    }
   ],
   "source": [
    "list2[0]"
   ]
  },
  {
   "cell_type": "code",
   "execution_count": 96,
   "metadata": {
    "collapsed": false
   },
   "outputs": [
    {
     "data": {
      "text/plain": [
       "[]"
      ]
     },
     "execution_count": 96,
     "metadata": {},
     "output_type": "execute_result"
    }
   ],
   "source": [
    "tree.findall('ingredient')"
   ]
  },
  {
   "cell_type": "code",
   "execution_count": 6,
   "metadata": {
    "collapsed": false
   },
   "outputs": [
    {
     "name": "stdout",
     "output_type": "stream",
     "text": [
      "None\n"
     ]
    }
   ],
   "source": [
    "from bs4 import BeautifulSoup\n",
    "from urllib.request import urlopen\n",
    "\n",
    "section_url = \"http://www.chicagoreader.com\"\n",
    "html = urlopen(section_url).read()\n",
    "\n",
    "soup = BeautifulSoup(html, \"lxml\")\n",
    "\n",
    "#print(soup.prettify())\n",
    "\n",
    "soup.title\n",
    "boccat = soup.find(\"dl\", \"boccat\")\n",
    "print(boccat)\n",
    "#boccat.findAll(\"dd\")\n",
    "#type(boccat)\n",
    "#def get_category_links(section_url):\n",
    "#    html = urlopen(section_url).read()\n",
    "#    soup = BeautifulSoup(html, \"lxml\")\n",
    "\n",
    "#boccat = soup.find(\"dl\", \"boccat\")\n",
    "#    category_links = [BASE_URL + dd.a[\"href\"] for dd in boccat.findAll(\"dd\")]\n",
    "#    return category_links"
   ]
  },
  {
   "cell_type": "code",
   "execution_count": 7,
   "metadata": {
    "collapsed": false
   },
   "outputs": [
    {
     "name": "stdout",
     "output_type": "stream",
     "text": [
      ".DS_Store\n",
      "www_bbc_co_uk_food_recipes_italian-style_stuffed_63676.html\n",
      "www_bbc_co_uk_food_recipes_italian_sausage_broad_76643.html\n",
      "www_bbc_co_uk_food_recipes_italian_style_meatballs_69955.html\n",
      "www_bbc_co_uk_food_recipes_italian_summer_10941.html\n"
     ]
    }
   ],
   "source": [
    "import os\n",
    "path = '/Users/sjiang/Desktop/receipe/auntiesrecipes-master/recipe_download'\n",
    "for filename in os.listdir(path):\n",
    "    print(filename)"
   ]
  },
  {
   "cell_type": "code",
   "execution_count": 135,
   "metadata": {
    "collapsed": false
   },
   "outputs": [],
   "source": [
    "import os\n",
    "import json\n",
    "from lxml import html\n",
    "from bs4 import BeautifulSoup\n",
    "import requests\n",
    "path1 = r'/Users/sjiang/Desktop/receipe/auntiesrecipes-master/recipe_download/'\n",
    "Totaldata=[]\n",
    "schema=[]\n",
    "num_file=0\n",
    "for filename in os.listdir(path1):\n",
    "    if not filename.startswith('.') and os.path.isfile(os.path.join(path1, filename)):\n",
    "        with open(path1+filename, \"r\") as f:\n",
    "            page = f.read()\n",
    "        tree = html.fromstring(page)\n",
    "        soup = BeautifulSoup(page,\"lxml\")\n",
    "        list1=soup.find('ul','recipe-ingredients__list')\n",
    "        if list1==None:\n",
    "            continue\n",
    "        list2=list1.find_all('li','recipe-ingredients__list-item')\n",
    "        data={}\n",
    "        data['title']=soup.title.string\n",
    "        for temp in list2:\n",
    "            if (len(temp.contents)==1):\n",
    "                if temp.contents==[' ']:\n",
    "                    continue\n",
    "                tt=temp.contents[0].split()[-1]\n",
    "                data[tt]=temp.contents[0].split()[0]\n",
    "            else:\n",
    "                tt=temp.contents[1].contents[0]\n",
    "                data[tt]=temp.contents[0]\n",
    "            if tt not in schema:\n",
    "                schema.append(tt)\n",
    "        Totaldata.append(data)\n",
    "        num_file+=1"
   ]
  },
  {
   "cell_type": "code",
   "execution_count": 136,
   "metadata": {
    "collapsed": false
   },
   "outputs": [
    {
     "data": {
      "text/plain": [
       "11112"
      ]
     },
     "execution_count": 136,
     "metadata": {},
     "output_type": "execute_result"
    }
   ],
   "source": [
    "num_file"
   ]
  },
  {
   "cell_type": "code",
   "execution_count": 130,
   "metadata": {
    "collapsed": false
   },
   "outputs": [
    {
     "data": {
      "text/plain": [
       "'www_bbc_co_uk_food_recipes_chumpoflambhotpotsty_74658.html'"
      ]
     },
     "execution_count": 130,
     "metadata": {},
     "output_type": "execute_result"
    }
   ],
   "source": [
    "filename"
   ]
  },
  {
   "cell_type": "code",
   "execution_count": 89,
   "metadata": {
    "collapsed": false
   },
   "outputs": [
    {
     "name": "stdout",
     "output_type": "stream",
     "text": [
      "www_bbc_co_uk_food_recipes_10minutepizza_87314.html\n",
      "www_bbc_co_uk_food_recipes_15_minute_pasta_33407.html\n",
      "www_bbc_co_uk_food_recipes_italian-style_stuffed_63676.html\n",
      "www_bbc_co_uk_food_recipes_italian_sausage_broad_76643.html\n",
      "www_bbc_co_uk_food_recipes_italian_style_meatballs_69955.html\n",
      "www_bbc_co_uk_food_recipes_italian_summer_10941.html\n"
     ]
    }
   ],
   "source": [
    "path1 = '/Users/sjiang/Desktop/receipe/auntiesrecipes-master/recipe_download/'\n",
    "for filename in os.listdir(path1):\n",
    "    if not filename.startswith('.') and os.path.isfile(os.path.join(path1, filename)):\n",
    "        print(filename)"
   ]
  },
  {
   "cell_type": "code",
   "execution_count": 90,
   "metadata": {
    "collapsed": false
   },
   "outputs": [
    {
     "data": {
      "text/plain": [
       "6"
      ]
     },
     "execution_count": 90,
     "metadata": {},
     "output_type": "execute_result"
    }
   ],
   "source": [
    "num_file"
   ]
  },
  {
   "cell_type": "code",
   "execution_count": 137,
   "metadata": {
    "collapsed": true
   },
   "outputs": [],
   "source": [
    "with open('data.json', 'w') as f:\n",
    "    json.dump(Totaldata, f)"
   ]
  },
  {
   "cell_type": "code",
   "execution_count": 62,
   "metadata": {
    "collapsed": false
   },
   "outputs": [
    {
     "data": {
      "text/plain": [
       "'BBC Food - Recipes - Ten-minute pizza'"
      ]
     },
     "execution_count": 62,
     "metadata": {},
     "output_type": "execute_result"
    }
   ],
   "source": [
    "Totaldata[0]['title']"
   ]
  },
  {
   "cell_type": "code",
   "execution_count": 138,
   "metadata": {
    "collapsed": false
   },
   "outputs": [
    {
     "data": {
      "text/plain": [
       "1818"
      ]
     },
     "execution_count": 138,
     "metadata": {},
     "output_type": "execute_result"
    }
   ],
   "source": [
    "len(schema)"
   ]
  },
  {
   "cell_type": "code",
   "execution_count": 139,
   "metadata": {
    "collapsed": false
   },
   "outputs": [],
   "source": [
    "import pandas as pd\n",
    "DF=pd.DataFrame(columns=schema)"
   ]
  },
  {
   "cell_type": "code",
   "execution_count": 140,
   "metadata": {
    "collapsed": false
   },
   "outputs": [
    {
     "data": {
      "text/html": [
       "<div>\n",
       "<table border=\"1\" class=\"dataframe\">\n",
       "  <thead>\n",
       "    <tr style=\"text-align: right;\">\n",
       "      <th></th>\n",
       "      <th>plain flour</th>\n",
       "      <th>olive oil</th>\n",
       "      <th>water</th>\n",
       "      <th>salt</th>\n",
       "      <th>pasta</th>\n",
       "      <th>ham</th>\n",
       "      <th>chestnut mushrooms</th>\n",
       "      <th>crème fraîche</th>\n",
       "      <th>Parmesan</th>\n",
       "      <th>parsley</th>\n",
       "      <th>...</th>\n",
       "      <th>sizes</th>\n",
       "      <th>wild duck</th>\n",
       "      <th>wild ducks</th>\n",
       "      <th>anis</th>\n",
       "      <th>stewing lamb</th>\n",
       "      <th>noodle soup</th>\n",
       "      <th>dumplings</th>\n",
       "      <th>recipe.</th>\n",
       "      <th>Za’atar</th>\n",
       "      <th>agar-agar</th>\n",
       "    </tr>\n",
       "  </thead>\n",
       "  <tbody>\n",
       "  </tbody>\n",
       "</table>\n",
       "<p>0 rows × 1818 columns</p>\n",
       "</div>"
      ],
      "text/plain": [
       "Empty DataFrame\n",
       "Columns: [plain flour, olive oil, water, salt, pasta, ham, chestnut mushrooms, crème fraîche, Parmesan, parsley, pepper, butter, caster sugar, vanilla essence, egg, double cream, lemon curd, lemon, lard, white wine vinegar, chilled, icing sugar, chicken, bacon, mushrooms, shallots, white wine, chicken stock, tomato purée, tarragon, tomatoes, brown bread, smoked salmon, onion, long-grain rice, bay leaf, coriander, cloves, cinnamon, cumin, roasted, garlic, chillies, lemongrass, galangal, clams, mussels, stock, lobster, langoustines, scallops, chervil, potatoes, spring onions, apple, horseradish, anchovies, lettuce, carrots, beetroot, eggs, chopped, dill, cucumber, black pepper, dusting, yeast, brown sugar, vegetable oil, jam, swede, berries, mirin, rice vinegar, sea salt, artichoke, oil, chilli, salt cod, ackee, thyme, self-raising flour, baking powder, vanilla extract, meringues, blackberries, pistachio, ice cream, leg of lamb, ginger, white pepper, chilli powder, garam masala, plum, yoghurt, whisky, tea, peach, angostura bitters, sirloin, ...]\n",
       "Index: []\n",
       "\n",
       "[0 rows x 1818 columns]"
      ]
     },
     "execution_count": 140,
     "metadata": {},
     "output_type": "execute_result"
    }
   ],
   "source": [
    "DF.head()"
   ]
  },
  {
   "cell_type": "code",
   "execution_count": 141,
   "metadata": {
    "collapsed": false
   },
   "outputs": [
    {
     "ename": "KeyboardInterrupt",
     "evalue": "",
     "output_type": "error",
     "traceback": [
      "\u001b[0;31m---------------------------------------------------------------------------\u001b[0m",
      "\u001b[0;31mKeyboardInterrupt\u001b[0m                         Traceback (most recent call last)",
      "\u001b[0;32m<ipython-input-141-51467ff67dcd>\u001b[0m in \u001b[0;36m<module>\u001b[0;34m()\u001b[0m\n\u001b[1;32m      9\u001b[0m         \u001b[0;32mif\u001b[0m \u001b[0mlen\u001b[0m\u001b[0;34m(\u001b[0m\u001b[0mkeyvalue\u001b[0m\u001b[0;34m)\u001b[0m\u001b[0;34m==\u001b[0m\u001b[0;36m0\u001b[0m\u001b[0;34m:\u001b[0m\u001b[0;34m\u001b[0m\u001b[0m\n\u001b[1;32m     10\u001b[0m             \u001b[0mkeyvalue\u001b[0m\u001b[0;34m.\u001b[0m\u001b[0mappend\u001b[0m\u001b[0;34m(\u001b[0m\u001b[0;34m'0.1'\u001b[0m\u001b[0;34m)\u001b[0m\u001b[0;34m\u001b[0m\u001b[0m\n\u001b[0;32m---> 11\u001b[0;31m         \u001b[0mDF\u001b[0m\u001b[0;34m.\u001b[0m\u001b[0mloc\u001b[0m\u001b[0;34m[\u001b[0m\u001b[0mtemptitle\u001b[0m\u001b[0;34m,\u001b[0m\u001b[0mkey\u001b[0m\u001b[0;34m]\u001b[0m\u001b[0;34m=\u001b[0m\u001b[0mkeyvalue\u001b[0m\u001b[0;34m[\u001b[0m\u001b[0;36m0\u001b[0m\u001b[0;34m]\u001b[0m\u001b[0;34m\u001b[0m\u001b[0m\n\u001b[0m",
      "\u001b[0;32m/Users/sjiang/anaconda/lib/python3.5/site-packages/pandas/core/indexing.py\u001b[0m in \u001b[0;36m__setitem__\u001b[0;34m(self, key, value)\u001b[0m\n\u001b[1;32m    126\u001b[0m     \u001b[0;32mdef\u001b[0m \u001b[0m__setitem__\u001b[0m\u001b[0;34m(\u001b[0m\u001b[0mself\u001b[0m\u001b[0;34m,\u001b[0m \u001b[0mkey\u001b[0m\u001b[0;34m,\u001b[0m \u001b[0mvalue\u001b[0m\u001b[0;34m)\u001b[0m\u001b[0;34m:\u001b[0m\u001b[0;34m\u001b[0m\u001b[0m\n\u001b[1;32m    127\u001b[0m         \u001b[0mindexer\u001b[0m \u001b[0;34m=\u001b[0m \u001b[0mself\u001b[0m\u001b[0;34m.\u001b[0m\u001b[0m_get_setitem_indexer\u001b[0m\u001b[0;34m(\u001b[0m\u001b[0mkey\u001b[0m\u001b[0;34m)\u001b[0m\u001b[0;34m\u001b[0m\u001b[0m\n\u001b[0;32m--> 128\u001b[0;31m         \u001b[0mself\u001b[0m\u001b[0;34m.\u001b[0m\u001b[0m_setitem_with_indexer\u001b[0m\u001b[0;34m(\u001b[0m\u001b[0mindexer\u001b[0m\u001b[0;34m,\u001b[0m \u001b[0mvalue\u001b[0m\u001b[0;34m)\u001b[0m\u001b[0;34m\u001b[0m\u001b[0m\n\u001b[0m\u001b[1;32m    129\u001b[0m \u001b[0;34m\u001b[0m\u001b[0m\n\u001b[1;32m    130\u001b[0m     \u001b[0;32mdef\u001b[0m \u001b[0m_has_valid_type\u001b[0m\u001b[0;34m(\u001b[0m\u001b[0mself\u001b[0m\u001b[0;34m,\u001b[0m \u001b[0mk\u001b[0m\u001b[0;34m,\u001b[0m \u001b[0maxis\u001b[0m\u001b[0;34m)\u001b[0m\u001b[0;34m:\u001b[0m\u001b[0;34m\u001b[0m\u001b[0m\n",
      "\u001b[0;32m/Users/sjiang/anaconda/lib/python3.5/site-packages/pandas/core/indexing.py\u001b[0m in \u001b[0;36m_setitem_with_indexer\u001b[0;34m(self, indexer, value)\u001b[0m\n\u001b[1;32m    530\u001b[0m                 \u001b[0;31m# scalar\u001b[0m\u001b[0;34m\u001b[0m\u001b[0;34m\u001b[0m\u001b[0m\n\u001b[1;32m    531\u001b[0m                 \u001b[0;32mfor\u001b[0m \u001b[0mitem\u001b[0m \u001b[0;32min\u001b[0m \u001b[0mlabels\u001b[0m\u001b[0;34m:\u001b[0m\u001b[0;34m\u001b[0m\u001b[0m\n\u001b[0;32m--> 532\u001b[0;31m                     \u001b[0msetter\u001b[0m\u001b[0;34m(\u001b[0m\u001b[0mitem\u001b[0m\u001b[0;34m,\u001b[0m \u001b[0mvalue\u001b[0m\u001b[0;34m)\u001b[0m\u001b[0;34m\u001b[0m\u001b[0m\n\u001b[0m\u001b[1;32m    533\u001b[0m \u001b[0;34m\u001b[0m\u001b[0m\n\u001b[1;32m    534\u001b[0m         \u001b[0;32melse\u001b[0m\u001b[0;34m:\u001b[0m\u001b[0;34m\u001b[0m\u001b[0m\n",
      "\u001b[0;32m/Users/sjiang/anaconda/lib/python3.5/site-packages/pandas/core/indexing.py\u001b[0m in \u001b[0;36msetter\u001b[0;34m(item, v)\u001b[0m\n\u001b[1;32m    454\u001b[0m                     \u001b[0;31m# set the item, possibly having a dtype change\u001b[0m\u001b[0;34m\u001b[0m\u001b[0;34m\u001b[0m\u001b[0m\n\u001b[1;32m    455\u001b[0m                     \u001b[0ms\u001b[0m\u001b[0;34m.\u001b[0m\u001b[0m_consolidate_inplace\u001b[0m\u001b[0;34m(\u001b[0m\u001b[0;34m)\u001b[0m\u001b[0;34m\u001b[0m\u001b[0m\n\u001b[0;32m--> 456\u001b[0;31m                     \u001b[0ms\u001b[0m \u001b[0;34m=\u001b[0m \u001b[0ms\u001b[0m\u001b[0;34m.\u001b[0m\u001b[0mcopy\u001b[0m\u001b[0;34m(\u001b[0m\u001b[0;34m)\u001b[0m\u001b[0;34m\u001b[0m\u001b[0m\n\u001b[0m\u001b[1;32m    457\u001b[0m                     \u001b[0ms\u001b[0m\u001b[0;34m.\u001b[0m\u001b[0m_data\u001b[0m \u001b[0;34m=\u001b[0m \u001b[0ms\u001b[0m\u001b[0;34m.\u001b[0m\u001b[0m_data\u001b[0m\u001b[0;34m.\u001b[0m\u001b[0msetitem\u001b[0m\u001b[0;34m(\u001b[0m\u001b[0mindexer\u001b[0m\u001b[0;34m=\u001b[0m\u001b[0mpi\u001b[0m\u001b[0;34m,\u001b[0m \u001b[0mvalue\u001b[0m\u001b[0;34m=\u001b[0m\u001b[0mv\u001b[0m\u001b[0;34m)\u001b[0m\u001b[0;34m\u001b[0m\u001b[0m\n\u001b[1;32m    458\u001b[0m                     \u001b[0ms\u001b[0m\u001b[0;34m.\u001b[0m\u001b[0m_maybe_update_cacher\u001b[0m\u001b[0;34m(\u001b[0m\u001b[0mclear\u001b[0m\u001b[0;34m=\u001b[0m\u001b[0;32mTrue\u001b[0m\u001b[0;34m)\u001b[0m\u001b[0;34m\u001b[0m\u001b[0m\n",
      "\u001b[0;32m/Users/sjiang/anaconda/lib/python3.5/site-packages/pandas/core/generic.py\u001b[0m in \u001b[0;36mcopy\u001b[0;34m(self, deep)\u001b[0m\n\u001b[1;32m   2961\u001b[0m         \u001b[0mcopy\u001b[0m \u001b[0;34m:\u001b[0m \u001b[0mtype\u001b[0m \u001b[0mof\u001b[0m \u001b[0mcaller\u001b[0m\u001b[0;34m\u001b[0m\u001b[0m\n\u001b[1;32m   2962\u001b[0m         \"\"\"\n\u001b[0;32m-> 2963\u001b[0;31m         \u001b[0mdata\u001b[0m \u001b[0;34m=\u001b[0m \u001b[0mself\u001b[0m\u001b[0;34m.\u001b[0m\u001b[0m_data\u001b[0m\u001b[0;34m.\u001b[0m\u001b[0mcopy\u001b[0m\u001b[0;34m(\u001b[0m\u001b[0mdeep\u001b[0m\u001b[0;34m=\u001b[0m\u001b[0mdeep\u001b[0m\u001b[0;34m)\u001b[0m\u001b[0;34m\u001b[0m\u001b[0m\n\u001b[0m\u001b[1;32m   2964\u001b[0m         \u001b[0;32mreturn\u001b[0m \u001b[0mself\u001b[0m\u001b[0;34m.\u001b[0m\u001b[0m_constructor\u001b[0m\u001b[0;34m(\u001b[0m\u001b[0mdata\u001b[0m\u001b[0;34m)\u001b[0m\u001b[0;34m.\u001b[0m\u001b[0m__finalize__\u001b[0m\u001b[0;34m(\u001b[0m\u001b[0mself\u001b[0m\u001b[0;34m)\u001b[0m\u001b[0;34m\u001b[0m\u001b[0m\n\u001b[1;32m   2965\u001b[0m \u001b[0;34m\u001b[0m\u001b[0m\n",
      "\u001b[0;32m/Users/sjiang/anaconda/lib/python3.5/site-packages/pandas/core/internals.py\u001b[0m in \u001b[0;36mcopy\u001b[0;34m(self, deep, mgr)\u001b[0m\n\u001b[1;32m   3069\u001b[0m             \u001b[0mnew_axes\u001b[0m \u001b[0;34m=\u001b[0m \u001b[0mlist\u001b[0m\u001b[0;34m(\u001b[0m\u001b[0mself\u001b[0m\u001b[0;34m.\u001b[0m\u001b[0maxes\u001b[0m\u001b[0;34m)\u001b[0m\u001b[0;34m\u001b[0m\u001b[0m\n\u001b[1;32m   3070\u001b[0m         return self.apply('copy', axes=new_axes, deep=deep,\n\u001b[0;32m-> 3071\u001b[0;31m                           do_integrity_check=False)\n\u001b[0m\u001b[1;32m   3072\u001b[0m \u001b[0;34m\u001b[0m\u001b[0m\n\u001b[1;32m   3073\u001b[0m     \u001b[0;32mdef\u001b[0m \u001b[0mas_matrix\u001b[0m\u001b[0;34m(\u001b[0m\u001b[0mself\u001b[0m\u001b[0;34m,\u001b[0m \u001b[0mitems\u001b[0m\u001b[0;34m=\u001b[0m\u001b[0;32mNone\u001b[0m\u001b[0;34m)\u001b[0m\u001b[0;34m:\u001b[0m\u001b[0;34m\u001b[0m\u001b[0m\n",
      "\u001b[0;32m/Users/sjiang/anaconda/lib/python3.5/site-packages/pandas/core/internals.py\u001b[0m in \u001b[0;36mapply\u001b[0;34m(self, f, axes, filter, do_integrity_check, consolidate, **kwargs)\u001b[0m\n\u001b[1;32m   2830\u001b[0m \u001b[0;34m\u001b[0m\u001b[0m\n\u001b[1;32m   2831\u001b[0m             \u001b[0mkwargs\u001b[0m\u001b[0;34m[\u001b[0m\u001b[0;34m'mgr'\u001b[0m\u001b[0;34m]\u001b[0m \u001b[0;34m=\u001b[0m \u001b[0mself\u001b[0m\u001b[0;34m\u001b[0m\u001b[0m\n\u001b[0;32m-> 2832\u001b[0;31m             \u001b[0mapplied\u001b[0m \u001b[0;34m=\u001b[0m \u001b[0mgetattr\u001b[0m\u001b[0;34m(\u001b[0m\u001b[0mb\u001b[0m\u001b[0;34m,\u001b[0m \u001b[0mf\u001b[0m\u001b[0;34m)\u001b[0m\u001b[0;34m(\u001b[0m\u001b[0;34m**\u001b[0m\u001b[0mkwargs\u001b[0m\u001b[0;34m)\u001b[0m\u001b[0;34m\u001b[0m\u001b[0m\n\u001b[0m\u001b[1;32m   2833\u001b[0m             \u001b[0mresult_blocks\u001b[0m \u001b[0;34m=\u001b[0m \u001b[0m_extend_blocks\u001b[0m\u001b[0;34m(\u001b[0m\u001b[0mapplied\u001b[0m\u001b[0;34m,\u001b[0m \u001b[0mresult_blocks\u001b[0m\u001b[0;34m)\u001b[0m\u001b[0;34m\u001b[0m\u001b[0m\n\u001b[1;32m   2834\u001b[0m \u001b[0;34m\u001b[0m\u001b[0m\n",
      "\u001b[0;32m/Users/sjiang/anaconda/lib/python3.5/site-packages/pandas/core/internals.py\u001b[0m in \u001b[0;36mcopy\u001b[0;34m(self, deep, mgr)\u001b[0m\n\u001b[1;32m    571\u001b[0m         \u001b[0mvalues\u001b[0m \u001b[0;34m=\u001b[0m \u001b[0mself\u001b[0m\u001b[0;34m.\u001b[0m\u001b[0mvalues\u001b[0m\u001b[0;34m\u001b[0m\u001b[0m\n\u001b[1;32m    572\u001b[0m         \u001b[0;32mif\u001b[0m \u001b[0mdeep\u001b[0m\u001b[0;34m:\u001b[0m\u001b[0;34m\u001b[0m\u001b[0m\n\u001b[0;32m--> 573\u001b[0;31m             \u001b[0mvalues\u001b[0m \u001b[0;34m=\u001b[0m \u001b[0mvalues\u001b[0m\u001b[0;34m.\u001b[0m\u001b[0mcopy\u001b[0m\u001b[0;34m(\u001b[0m\u001b[0;34m)\u001b[0m\u001b[0;34m\u001b[0m\u001b[0m\n\u001b[0m\u001b[1;32m    574\u001b[0m         \u001b[0;32mreturn\u001b[0m \u001b[0mself\u001b[0m\u001b[0;34m.\u001b[0m\u001b[0mmake_block_same_class\u001b[0m\u001b[0;34m(\u001b[0m\u001b[0mvalues\u001b[0m\u001b[0;34m)\u001b[0m\u001b[0;34m\u001b[0m\u001b[0m\n\u001b[1;32m    575\u001b[0m \u001b[0;34m\u001b[0m\u001b[0m\n",
      "\u001b[0;31mKeyboardInterrupt\u001b[0m: "
     ]
    }
   ],
   "source": [
    "import re\n",
    "for ii in range(num_file):\n",
    "    temp=Totaldata[ii].copy()\n",
    "    temptitle=temp['title'][21:]\n",
    "    DF.loc[temptitle]=0\n",
    "    del temp['title']\n",
    "    for key in temp.keys():\n",
    "        keyvalue=re.findall('\\d+', temp[key])\n",
    "        if len(keyvalue)==0:\n",
    "            keyvalue.append('0.1')\n",
    "        DF.loc[temptitle,key]=keyvalue[0]"
   ]
  },
  {
   "cell_type": "code",
   "execution_count": 143,
   "metadata": {
    "collapsed": false
   },
   "outputs": [
    {
     "data": {
      "text/plain": [
       "<bound method NDFrame.head of                                                    plain flour olive oil  \\\n",
       "Ten-minute pizza                                           250         8   \n",
       "15 minute pasta                                              0         0   \n",
       "3D biscuits                                                400         0   \n",
       "Lemon curd ice cream                                         0         0   \n",
       " Banoffee millefeuilles with chocolate and cara...         800         0   \n",
       " Chicken chasseur with creamy mash                          50         2   \n",
       "Cold-smoked salmon with homemade butter and bro...           0         0   \n",
       " Fillet of beef stroganoff with riz pilaff                   0         0   \n",
       "Venison massaman curry                                       0         0   \n",
       "A medley of shellfish with baby vegetables                   0         2   \n",
       "Simple layered salad                                         0         0   \n",
       "Aberdeen butteries (Rowies)                                  0         0   \n",
       "Abundant steamed sea bass and seasonal clams wi...           0         0   \n",
       "Acacia honey-glazed chicken breast with tomato,...           1         0   \n",
       "Ackee and saltfish                                           0         0   \n",
       "A classic sponge cake (with passion fruit filling)           0         0   \n",
       "A creamy, crunchy fruit sundae                               0         0   \n",
       "Adhraki gosht (lamb masala in a tomato and ging...           0         0   \n",
       "Affini tea                                                   0         0   \n",
       "Aged sirloin steak with Thai salad and toasted ...           0         4   \n",
       "Aglio e peperoncino                                          0         3   \n",
       "Agnello alla menta con insalata calda (Italian ...           0         5   \n",
       "A great dressing for oysters                                 0        50   \n",
       "Aïoli                                                        0       150   \n",
       "Aji de gallina                                               0         0   \n",
       "Ajitsuke tamago (Japanese pickled eggs)                      0         0   \n",
       "Ajwain parathas                                              0         7   \n",
       "Albanian baked lamb with rice (Tavë kosi)                   50         1   \n",
       "Albondigas (spicy Mexican meatballs with red rice)           0         3   \n",
       "Prawns al cremat with a Little Gem, dandelion a...           0         2   \n",
       "...                                                        ...       ...   \n",
       "Salt and pepper ‘popcorn’ prawns with tomato an...           0       0.1   \n",
       "Salt and pepper Sichuan prawns with soy chilli ...           0         0   \n",
       "Salt baked potatoes with chorizo mayonnaise and...           0         0   \n",
       "Salt baked sea bass with pesto and crispy pance...           0         0   \n",
       "Salt baked seabass with a fennel salad                       0         0   \n",
       "Salt beef with a fried egg, gooseberry ketchup ...           0         0   \n",
       "Salt cod brandade                                            0        75   \n",
       "Salt cod brandade with seared squid                          0         0   \n",
       "Salt cod with deep fried cauliflower and pepper...           0         0   \n",
       "Salt fish fritters                                           0         0   \n",
       "Salt liquorice caramels                                      0         0   \n",
       "Salt marsh lamb cooked with wild sea herbs and ...           0         0   \n",
       "Salt pork belly with split pea purée and sauerk...           0         0   \n",
       "Salt and chilli squid with hot and sour dipping...           0         0   \n",
       "Salt and pepper buttered samphire                            0         0   \n",
       "Salt and pepper chilli squid with pak choi                   0         0   \n",
       "Salt and peppered steak with sweet potato mash,...           0         1   \n",
       "Salt and pepper roast loin of pork with curried...           0         1   \n",
       "Salt and vinegar sautéed potatoes                            0         0   \n",
       "Salt-baked sea bass with sorrel hollandaise                  0       100   \n",
       "Salt beef and horseradish mash                               0         0   \n",
       "Salt chilli prawns                                           0         0   \n",
       "Salt chilli squid with salsa                                 5         0   \n",
       "Pollack and king prawn fishcakes                             0         0   \n",
       "Salt-crusted sea bass                                        0        50   \n",
       "Salt-crusted whole sea bass with fennel and roc...           0         3   \n",
       "Salted caramel millionaire’s shortbread                    225         0   \n",
       "Salted caramel and chocolate mousse                          0         0   \n",
       "Salted caramel and coffee éclairs                            0         0   \n",
       "Salted caramel and apple rolls                               0         0   \n",
       "\n",
       "                                                   water salt pasta ham  \\\n",
       "Ten-minute pizza                                       2    1     0   0   \n",
       "15 minute pasta                                        0    0   350   2   \n",
       "3D biscuits                                            0    0     0   0   \n",
       "Lemon curd ice cream                                   0    0     0   0   \n",
       " Banoffee millefeuilles with chocolate and cara...     0    1     0   0   \n",
       " Chicken chasseur with creamy mash                     0    0     0   0   \n",
       "Cold-smoked salmon with homemade butter and bro...     0  0.1     0   0   \n",
       " Fillet of beef stroganoff with riz pilaff             0    0     0   0   \n",
       "Venison massaman curry                                 0    0     0   0   \n",
       "A medley of shellfish with baby vegetables             0    0     0   0   \n",
       "Simple layered salad                                   0    0     0   0   \n",
       "Aberdeen butteries (Rowies)                          350    1     0   0   \n",
       "Abundant steamed sea bass and seasonal clams wi...     0    0     0   0   \n",
       "Acacia honey-glazed chicken breast with tomato,...     0    0     0   0   \n",
       "Ackee and saltfish                                     0    0     0   0   \n",
       "A classic sponge cake (with passion fruit filling)     0    0     0   0   \n",
       "A creamy, crunchy fruit sundae                         0    0     0   0   \n",
       "Adhraki gosht (lamb masala in a tomato and ging...     0  0.1     0   0   \n",
       "Affini tea                                             0    0     0   0   \n",
       "Aged sirloin steak with Thai salad and toasted ...     0    0     0   0   \n",
       "Aglio e peperoncino                                    0    0     0   0   \n",
       "Agnello alla menta con insalata calda (Italian ...     1    0     0   0   \n",
       "A great dressing for oysters                           0    1     0   0   \n",
       "Aïoli                                                  0    0     0   0   \n",
       "Aji de gallina                                         0    0     0   0   \n",
       "Ajitsuke tamago (Japanese pickled eggs)                0    0     0   0   \n",
       "Ajwain parathas                                        0  0.1     0   0   \n",
       "Albanian baked lamb with rice (Tavë kosi)              0    0     0   0   \n",
       "Albondigas (spicy Mexican meatballs with red rice)     0    0     0   0   \n",
       "Prawns al cremat with a Little Gem, dandelion a...     0    0     0   0   \n",
       "...                                                  ...  ...   ...  ..   \n",
       "Salt and pepper ‘popcorn’ prawns with tomato an...     0    0     0   0   \n",
       "Salt and pepper Sichuan prawns with soy chilli ...     0    0     0   0   \n",
       "Salt baked potatoes with chorizo mayonnaise and...     0    0     0   0   \n",
       "Salt baked sea bass with pesto and crispy pance...     0    2     0   0   \n",
       "Salt baked seabass with a fennel salad                 0    0     0   0   \n",
       "Salt beef with a fried egg, gooseberry ketchup ...     0    0     0   0   \n",
       "Salt cod brandade                                      0    0     0   0   \n",
       "Salt cod brandade with seared squid                    0    0     0   0   \n",
       "Salt cod with deep fried cauliflower and pepper...     0    0     0   0   \n",
       "Salt fish fritters                                     0    0     0   0   \n",
       "Salt liquorice caramels                                0    0     0   0   \n",
       "Salt marsh lamb cooked with wild sea herbs and ...   300  600     0   0   \n",
       "Salt pork belly with split pea purée and sauerk...     0    1     0   0   \n",
       "Salt and chilli squid with hot and sour dipping...   0.1    2     0   0   \n",
       "Salt and pepper buttered samphire                      0    0     0   0   \n",
       "Salt and pepper chilli squid with pak choi             0    1     0   0   \n",
       "Salt and peppered steak with sweet potato mash,...     0  0.1     0   0   \n",
       "Salt and pepper roast loin of pork with curried...     0  0.1     0   0   \n",
       "Salt and vinegar sautéed potatoes                      0    0     0   0   \n",
       "Salt-baked sea bass with sorrel hollandaise            0  750     0   0   \n",
       "Salt beef and horseradish mash                         0    0     0   0   \n",
       "Salt chilli prawns                                     0    0     0   0   \n",
       "Salt chilli squid with salsa                           0    0     0   0   \n",
       "Pollack and king prawn fishcakes                       0    0     0   0   \n",
       "Salt-crusted sea bass                                  0  350     0   0   \n",
       "Salt-crusted whole sea bass with fennel and roc...     0  300     0   0   \n",
       "Salted caramel millionaire’s shortbread                0    0     0   0   \n",
       "Salted caramel and chocolate mousse                    0    0     0   0   \n",
       "Salted caramel and coffee éclairs                      0  0.1     0   0   \n",
       "Salted caramel and apple rolls                         1    3     0   0   \n",
       "\n",
       "                                                   chestnut mushrooms  \\\n",
       "Ten-minute pizza                                                    0   \n",
       "15 minute pasta                                                   250   \n",
       "3D biscuits                                                         0   \n",
       "Lemon curd ice cream                                                0   \n",
       " Banoffee millefeuilles with chocolate and cara...                  0   \n",
       " Chicken chasseur with creamy mash                                  0   \n",
       "Cold-smoked salmon with homemade butter and bro...                  0   \n",
       " Fillet of beef stroganoff with riz pilaff                          0   \n",
       "Venison massaman curry                                              0   \n",
       "A medley of shellfish with baby vegetables                          0   \n",
       "Simple layered salad                                                0   \n",
       "Aberdeen butteries (Rowies)                                         0   \n",
       "Abundant steamed sea bass and seasonal clams wi...                  0   \n",
       "Acacia honey-glazed chicken breast with tomato,...                  0   \n",
       "Ackee and saltfish                                                  0   \n",
       "A classic sponge cake (with passion fruit filling)                  0   \n",
       "A creamy, crunchy fruit sundae                                      0   \n",
       "Adhraki gosht (lamb masala in a tomato and ging...                  0   \n",
       "Affini tea                                                          0   \n",
       "Aged sirloin steak with Thai salad and toasted ...                  0   \n",
       "Aglio e peperoncino                                                 0   \n",
       "Agnello alla menta con insalata calda (Italian ...                  0   \n",
       "A great dressing for oysters                                        0   \n",
       "Aïoli                                                               0   \n",
       "Aji de gallina                                                      0   \n",
       "Ajitsuke tamago (Japanese pickled eggs)                             0   \n",
       "Ajwain parathas                                                     0   \n",
       "Albanian baked lamb with rice (Tavë kosi)                           0   \n",
       "Albondigas (spicy Mexican meatballs with red rice)                  0   \n",
       "Prawns al cremat with a Little Gem, dandelion a...                  0   \n",
       "...                                                               ...   \n",
       "Salt and pepper ‘popcorn’ prawns with tomato an...                  0   \n",
       "Salt and pepper Sichuan prawns with soy chilli ...                  0   \n",
       "Salt baked potatoes with chorizo mayonnaise and...                  0   \n",
       "Salt baked sea bass with pesto and crispy pance...                  0   \n",
       "Salt baked seabass with a fennel salad                              0   \n",
       "Salt beef with a fried egg, gooseberry ketchup ...                  0   \n",
       "Salt cod brandade                                                   0   \n",
       "Salt cod brandade with seared squid                                 0   \n",
       "Salt cod with deep fried cauliflower and pepper...                  0   \n",
       "Salt fish fritters                                                  0   \n",
       "Salt liquorice caramels                                             0   \n",
       "Salt marsh lamb cooked with wild sea herbs and ...                  0   \n",
       "Salt pork belly with split pea purée and sauerk...                  0   \n",
       "Salt and chilli squid with hot and sour dipping...                  0   \n",
       "Salt and pepper buttered samphire                                   0   \n",
       "Salt and pepper chilli squid with pak choi                          0   \n",
       "Salt and peppered steak with sweet potato mash,...                  0   \n",
       "Salt and pepper roast loin of pork with curried...                  0   \n",
       "Salt and vinegar sautéed potatoes                                   0   \n",
       "Salt-baked sea bass with sorrel hollandaise                         0   \n",
       "Salt beef and horseradish mash                                      0   \n",
       "Salt chilli prawns                                                  0   \n",
       "Salt chilli squid with salsa                                        0   \n",
       "Pollack and king prawn fishcakes                                    0   \n",
       "Salt-crusted sea bass                                               0   \n",
       "Salt-crusted whole sea bass with fennel and roc...                  0   \n",
       "Salted caramel millionaire’s shortbread                             0   \n",
       "Salted caramel and chocolate mousse                                 0   \n",
       "Salted caramel and coffee éclairs                                   0   \n",
       "Salted caramel and apple rolls                                      0   \n",
       "\n",
       "                                                   crème fraîche Parmesan  \\\n",
       "Ten-minute pizza                                               0        0   \n",
       "15 minute pasta                                              200      100   \n",
       "3D biscuits                                                    0        0   \n",
       "Lemon curd ice cream                                           0        0   \n",
       " Banoffee millefeuilles with chocolate and cara...             0        0   \n",
       " Chicken chasseur with creamy mash                             0        0   \n",
       "Cold-smoked salmon with homemade butter and bro...             0        0   \n",
       " Fillet of beef stroganoff with riz pilaff                     0        0   \n",
       "Venison massaman curry                                         0        0   \n",
       "A medley of shellfish with baby vegetables                     0        0   \n",
       "Simple layered salad                                           0        0   \n",
       "Aberdeen butteries (Rowies)                                    0        0   \n",
       "Abundant steamed sea bass and seasonal clams wi...             0        0   \n",
       "Acacia honey-glazed chicken breast with tomato,...             0        0   \n",
       "Ackee and saltfish                                             0        0   \n",
       "A classic sponge cake (with passion fruit filling)             0        0   \n",
       "A creamy, crunchy fruit sundae                                 0        0   \n",
       "Adhraki gosht (lamb masala in a tomato and ging...             0        0   \n",
       "Affini tea                                                     0        0   \n",
       "Aged sirloin steak with Thai salad and toasted ...             0        0   \n",
       "Aglio e peperoncino                                            0        0   \n",
       "Agnello alla menta con insalata calda (Italian ...             0        0   \n",
       "A great dressing for oysters                                   0        0   \n",
       "Aïoli                                                          0        0   \n",
       "Aji de gallina                                                 0        0   \n",
       "Ajitsuke tamago (Japanese pickled eggs)                        0        0   \n",
       "Ajwain parathas                                                0        0   \n",
       "Albanian baked lamb with rice (Tavë kosi)                      0        0   \n",
       "Albondigas (spicy Mexican meatballs with red rice)             0        0   \n",
       "Prawns al cremat with a Little Gem, dandelion a...             0        0   \n",
       "...                                                          ...      ...   \n",
       "Salt and pepper ‘popcorn’ prawns with tomato an...             0        0   \n",
       "Salt and pepper Sichuan prawns with soy chilli ...             0        0   \n",
       "Salt baked potatoes with chorizo mayonnaise and...             0        0   \n",
       "Salt baked sea bass with pesto and crispy pance...             0        0   \n",
       "Salt baked seabass with a fennel salad                         0        0   \n",
       "Salt beef with a fried egg, gooseberry ketchup ...             0        0   \n",
       "Salt cod brandade                                              0        0   \n",
       "Salt cod brandade with seared squid                            0        0   \n",
       "Salt cod with deep fried cauliflower and pepper...             0        0   \n",
       "Salt fish fritters                                             0        0   \n",
       "Salt liquorice caramels                                        0        0   \n",
       "Salt marsh lamb cooked with wild sea herbs and ...             0        0   \n",
       "Salt pork belly with split pea purée and sauerk...             0        0   \n",
       "Salt and chilli squid with hot and sour dipping...             0        0   \n",
       "Salt and pepper buttered samphire                              0        0   \n",
       "Salt and pepper chilli squid with pak choi                     0        0   \n",
       "Salt and peppered steak with sweet potato mash,...             0        0   \n",
       "Salt and pepper roast loin of pork with curried...             0        0   \n",
       "Salt and vinegar sautéed potatoes                              0        0   \n",
       "Salt-baked sea bass with sorrel hollandaise                    0        0   \n",
       "Salt beef and horseradish mash                                 0        0   \n",
       "Salt chilli prawns                                             0        0   \n",
       "Salt chilli squid with salsa                                   0        0   \n",
       "Pollack and king prawn fishcakes                               0        0   \n",
       "Salt-crusted sea bass                                          0        0   \n",
       "Salt-crusted whole sea bass with fennel and roc...             0        0   \n",
       "Salted caramel millionaire’s shortbread                        0        0   \n",
       "Salted caramel and chocolate mousse                            0        0   \n",
       "Salted caramel and coffee éclairs                              0        0   \n",
       "Salted caramel and apple rolls                                 0        0   \n",
       "\n",
       "                                                   parsley    ...    sizes  \\\n",
       "Ten-minute pizza                                         0    ...      0.0   \n",
       "15 minute pasta                                          2    ...      0.0   \n",
       "3D biscuits                                              0    ...      0.0   \n",
       "Lemon curd ice cream                                     0    ...      0.0   \n",
       " Banoffee millefeuilles with chocolate and cara...       0    ...      0.0   \n",
       " Chicken chasseur with creamy mash                       4    ...      0.0   \n",
       "Cold-smoked salmon with homemade butter and bro...       0    ...      0.0   \n",
       " Fillet of beef stroganoff with riz pilaff               0    ...      0.0   \n",
       "Venison massaman curry                                   0    ...      0.0   \n",
       "A medley of shellfish with baby vegetables               0    ...      0.0   \n",
       "Simple layered salad                                     0    ...      0.0   \n",
       "Aberdeen butteries (Rowies)                              0    ...      0.0   \n",
       "Abundant steamed sea bass and seasonal clams wi...       0    ...      0.0   \n",
       "Acacia honey-glazed chicken breast with tomato,...       0    ...      0.0   \n",
       "Ackee and saltfish                                       0    ...      0.0   \n",
       "A classic sponge cake (with passion fruit filling)       0    ...      0.0   \n",
       "A creamy, crunchy fruit sundae                           0    ...      0.0   \n",
       "Adhraki gosht (lamb masala in a tomato and ging...       0    ...      0.0   \n",
       "Affini tea                                               0    ...      0.0   \n",
       "Aged sirloin steak with Thai salad and toasted ...       0    ...      0.0   \n",
       "Aglio e peperoncino                                      0    ...      0.0   \n",
       "Agnello alla menta con insalata calda (Italian ...       0    ...      0.0   \n",
       "A great dressing for oysters                             0    ...      0.0   \n",
       "Aïoli                                                    0    ...      0.0   \n",
       "Aji de gallina                                           0    ...      0.0   \n",
       "Ajitsuke tamago (Japanese pickled eggs)                  0    ...      0.0   \n",
       "Ajwain parathas                                          0    ...      0.0   \n",
       "Albanian baked lamb with rice (Tavë kosi)                0    ...      0.0   \n",
       "Albondigas (spicy Mexican meatballs with red rice)       0    ...      0.0   \n",
       "Prawns al cremat with a Little Gem, dandelion a...       1    ...      0.0   \n",
       "...                                                    ...    ...      ...   \n",
       "Salt and pepper ‘popcorn’ prawns with tomato an...       0    ...      0.0   \n",
       "Salt and pepper Sichuan prawns with soy chilli ...       0    ...      0.0   \n",
       "Salt baked potatoes with chorizo mayonnaise and...       0    ...      0.0   \n",
       "Salt baked sea bass with pesto and crispy pance...       0    ...      0.0   \n",
       "Salt baked seabass with a fennel salad                   0    ...      0.0   \n",
       "Salt beef with a fried egg, gooseberry ketchup ...     0.1    ...      0.0   \n",
       "Salt cod brandade                                        1    ...      0.0   \n",
       "Salt cod brandade with seared squid                      0    ...      0.0   \n",
       "Salt cod with deep fried cauliflower and pepper...       0    ...      0.0   \n",
       "Salt fish fritters                                       0    ...      0.0   \n",
       "Salt liquorice caramels                                  0    ...      0.0   \n",
       "Salt marsh lamb cooked with wild sea herbs and ...       0    ...      0.0   \n",
       "Salt pork belly with split pea purée and sauerk...       0    ...      0.0   \n",
       "Salt and chilli squid with hot and sour dipping...       0    ...      0.0   \n",
       "Salt and pepper buttered samphire                        0    ...      0.0   \n",
       "Salt and pepper chilli squid with pak choi               0    ...      0.0   \n",
       "Salt and peppered steak with sweet potato mash,...       0    ...      0.0   \n",
       "Salt and pepper roast loin of pork with curried...       0    ...      0.0   \n",
       "Salt and vinegar sautéed potatoes                        0    ...      0.0   \n",
       "Salt-baked sea bass with sorrel hollandaise              0    ...      0.0   \n",
       "Salt beef and horseradish mash                           0    ...      0.0   \n",
       "Salt chilli prawns                                       0    ...      0.0   \n",
       "Salt chilli squid with salsa                             0    ...      0.0   \n",
       "Pollack and king prawn fishcakes                         0    ...      0.0   \n",
       "Salt-crusted sea bass                                    2    ...      0.0   \n",
       "Salt-crusted whole sea bass with fennel and roc...       0    ...      0.0   \n",
       "Salted caramel millionaire’s shortbread                  0    ...      0.0   \n",
       "Salted caramel and chocolate mousse                      0    ...      0.0   \n",
       "Salted caramel and coffee éclairs                        0    ...      0.0   \n",
       "Salted caramel and apple rolls                           0    ...      0.0   \n",
       "\n",
       "                                                   wild duck wild ducks anis  \\\n",
       "Ten-minute pizza                                         0.0        0.0  0.0   \n",
       "15 minute pasta                                          0.0        0.0  0.0   \n",
       "3D biscuits                                              0.0        0.0  0.0   \n",
       "Lemon curd ice cream                                     0.0        0.0  0.0   \n",
       " Banoffee millefeuilles with chocolate and cara...       0.0        0.0  0.0   \n",
       " Chicken chasseur with creamy mash                       0.0        0.0  0.0   \n",
       "Cold-smoked salmon with homemade butter and bro...       0.0        0.0  0.0   \n",
       " Fillet of beef stroganoff with riz pilaff               0.0        0.0  0.0   \n",
       "Venison massaman curry                                   0.0        0.0  0.0   \n",
       "A medley of shellfish with baby vegetables               0.0        0.0  0.0   \n",
       "Simple layered salad                                     0.0        0.0  0.0   \n",
       "Aberdeen butteries (Rowies)                              0.0        0.0  0.0   \n",
       "Abundant steamed sea bass and seasonal clams wi...       0.0        0.0  0.0   \n",
       "Acacia honey-glazed chicken breast with tomato,...       0.0        0.0  0.0   \n",
       "Ackee and saltfish                                       0.0        0.0  0.0   \n",
       "A classic sponge cake (with passion fruit filling)       0.0        0.0  0.0   \n",
       "A creamy, crunchy fruit sundae                           0.0        0.0  0.0   \n",
       "Adhraki gosht (lamb masala in a tomato and ging...       0.0        0.0  0.0   \n",
       "Affini tea                                               0.0        0.0  0.0   \n",
       "Aged sirloin steak with Thai salad and toasted ...       0.0        0.0  0.0   \n",
       "Aglio e peperoncino                                      0.0        0.0  0.0   \n",
       "Agnello alla menta con insalata calda (Italian ...       0.0        0.0  0.0   \n",
       "A great dressing for oysters                             0.0        0.0  0.0   \n",
       "Aïoli                                                    0.0        0.0  0.0   \n",
       "Aji de gallina                                           0.0        0.0  0.0   \n",
       "Ajitsuke tamago (Japanese pickled eggs)                  0.0        0.0  0.0   \n",
       "Ajwain parathas                                          0.0        0.0  0.0   \n",
       "Albanian baked lamb with rice (Tavë kosi)                0.0        0.0  0.0   \n",
       "Albondigas (spicy Mexican meatballs with red rice)       0.0        0.0  0.0   \n",
       "Prawns al cremat with a Little Gem, dandelion a...       0.0        0.0  0.0   \n",
       "...                                                      ...        ...  ...   \n",
       "Salt and pepper ‘popcorn’ prawns with tomato an...       0.0        0.0  0.0   \n",
       "Salt and pepper Sichuan prawns with soy chilli ...       0.0        0.0  0.0   \n",
       "Salt baked potatoes with chorizo mayonnaise and...       0.0        0.0  0.0   \n",
       "Salt baked sea bass with pesto and crispy pance...       0.0        0.0  0.0   \n",
       "Salt baked seabass with a fennel salad                   0.0        0.0  0.0   \n",
       "Salt beef with a fried egg, gooseberry ketchup ...       0.0        0.0  0.0   \n",
       "Salt cod brandade                                        0.0        0.0  0.0   \n",
       "Salt cod brandade with seared squid                      0.0        0.0  0.0   \n",
       "Salt cod with deep fried cauliflower and pepper...       0.0        0.0  0.0   \n",
       "Salt fish fritters                                       0.0        0.0  0.0   \n",
       "Salt liquorice caramels                                  0.0        0.0  0.0   \n",
       "Salt marsh lamb cooked with wild sea herbs and ...       0.0        0.0  0.0   \n",
       "Salt pork belly with split pea purée and sauerk...       0.0        0.0  0.0   \n",
       "Salt and chilli squid with hot and sour dipping...       0.0        0.0  0.0   \n",
       "Salt and pepper buttered samphire                        0.0        0.0  0.0   \n",
       "Salt and pepper chilli squid with pak choi               0.0        0.0  0.0   \n",
       "Salt and peppered steak with sweet potato mash,...       0.0        0.0  0.0   \n",
       "Salt and pepper roast loin of pork with curried...       0.0        0.0  0.0   \n",
       "Salt and vinegar sautéed potatoes                        0.0        0.0  0.0   \n",
       "Salt-baked sea bass with sorrel hollandaise              0.0        0.0  0.0   \n",
       "Salt beef and horseradish mash                           0.0        0.0  0.0   \n",
       "Salt chilli prawns                                       0.0        0.0  0.0   \n",
       "Salt chilli squid with salsa                             0.0        0.0  0.0   \n",
       "Pollack and king prawn fishcakes                         0.0        0.0  0.0   \n",
       "Salt-crusted sea bass                                    0.0        0.0  0.0   \n",
       "Salt-crusted whole sea bass with fennel and roc...       0.0        0.0  0.0   \n",
       "Salted caramel millionaire’s shortbread                  0.0        0.0  0.0   \n",
       "Salted caramel and chocolate mousse                      0.0        0.0  0.0   \n",
       "Salted caramel and coffee éclairs                        0.0        0.0  0.0   \n",
       "Salted caramel and apple rolls                           0.0        0.0  0.0   \n",
       "\n",
       "                                                   stewing lamb noodle soup  \\\n",
       "Ten-minute pizza                                            0.0         0.0   \n",
       "15 minute pasta                                             0.0         0.0   \n",
       "3D biscuits                                                 0.0         0.0   \n",
       "Lemon curd ice cream                                        0.0         0.0   \n",
       " Banoffee millefeuilles with chocolate and cara...          0.0         0.0   \n",
       " Chicken chasseur with creamy mash                          0.0         0.0   \n",
       "Cold-smoked salmon with homemade butter and bro...          0.0         0.0   \n",
       " Fillet of beef stroganoff with riz pilaff                  0.0         0.0   \n",
       "Venison massaman curry                                      0.0         0.0   \n",
       "A medley of shellfish with baby vegetables                  0.0         0.0   \n",
       "Simple layered salad                                        0.0         0.0   \n",
       "Aberdeen butteries (Rowies)                                 0.0         0.0   \n",
       "Abundant steamed sea bass and seasonal clams wi...          0.0         0.0   \n",
       "Acacia honey-glazed chicken breast with tomato,...          0.0         0.0   \n",
       "Ackee and saltfish                                          0.0         0.0   \n",
       "A classic sponge cake (with passion fruit filling)          0.0         0.0   \n",
       "A creamy, crunchy fruit sundae                              0.0         0.0   \n",
       "Adhraki gosht (lamb masala in a tomato and ging...          0.0         0.0   \n",
       "Affini tea                                                  0.0         0.0   \n",
       "Aged sirloin steak with Thai salad and toasted ...          0.0         0.0   \n",
       "Aglio e peperoncino                                         0.0         0.0   \n",
       "Agnello alla menta con insalata calda (Italian ...          0.0         0.0   \n",
       "A great dressing for oysters                                0.0         0.0   \n",
       "Aïoli                                                       0.0         0.0   \n",
       "Aji de gallina                                              0.0         0.0   \n",
       "Ajitsuke tamago (Japanese pickled eggs)                     0.0         0.0   \n",
       "Ajwain parathas                                             0.0         0.0   \n",
       "Albanian baked lamb with rice (Tavë kosi)                   0.0         0.0   \n",
       "Albondigas (spicy Mexican meatballs with red rice)          0.0         0.0   \n",
       "Prawns al cremat with a Little Gem, dandelion a...          0.0         0.0   \n",
       "...                                                         ...         ...   \n",
       "Salt and pepper ‘popcorn’ prawns with tomato an...          0.0         0.0   \n",
       "Salt and pepper Sichuan prawns with soy chilli ...          0.0         0.0   \n",
       "Salt baked potatoes with chorizo mayonnaise and...          0.0         0.0   \n",
       "Salt baked sea bass with pesto and crispy pance...          0.0         0.0   \n",
       "Salt baked seabass with a fennel salad                      0.0         0.0   \n",
       "Salt beef with a fried egg, gooseberry ketchup ...          0.0         0.0   \n",
       "Salt cod brandade                                           0.0         0.0   \n",
       "Salt cod brandade with seared squid                         0.0         0.0   \n",
       "Salt cod with deep fried cauliflower and pepper...          0.0         0.0   \n",
       "Salt fish fritters                                          0.0         0.0   \n",
       "Salt liquorice caramels                                     0.0         0.0   \n",
       "Salt marsh lamb cooked with wild sea herbs and ...          0.0         0.0   \n",
       "Salt pork belly with split pea purée and sauerk...          0.0         0.0   \n",
       "Salt and chilli squid with hot and sour dipping...          0.0         0.0   \n",
       "Salt and pepper buttered samphire                           0.0         0.0   \n",
       "Salt and pepper chilli squid with pak choi                  0.0         0.0   \n",
       "Salt and peppered steak with sweet potato mash,...          0.0         0.0   \n",
       "Salt and pepper roast loin of pork with curried...          0.0         0.0   \n",
       "Salt and vinegar sautéed potatoes                           0.0         0.0   \n",
       "Salt-baked sea bass with sorrel hollandaise                 0.0         0.0   \n",
       "Salt beef and horseradish mash                              0.0         0.0   \n",
       "Salt chilli prawns                                          0.0         0.0   \n",
       "Salt chilli squid with salsa                                0.0         0.0   \n",
       "Pollack and king prawn fishcakes                            0.0         0.0   \n",
       "Salt-crusted sea bass                                       0.0         0.0   \n",
       "Salt-crusted whole sea bass with fennel and roc...          0.0         0.0   \n",
       "Salted caramel millionaire’s shortbread                     0.0         0.0   \n",
       "Salted caramel and chocolate mousse                         0.0         0.0   \n",
       "Salted caramel and coffee éclairs                           0.0         0.0   \n",
       "Salted caramel and apple rolls                              0.0         0.0   \n",
       "\n",
       "                                                   dumplings recipe. Za’atar  \\\n",
       "Ten-minute pizza                                         0.0     0.0     0.0   \n",
       "15 minute pasta                                          0.0     0.0     0.0   \n",
       "3D biscuits                                              0.0     0.0     0.0   \n",
       "Lemon curd ice cream                                     0.0     0.0     0.0   \n",
       " Banoffee millefeuilles with chocolate and cara...       0.0     0.0     0.0   \n",
       " Chicken chasseur with creamy mash                       0.0     0.0     0.0   \n",
       "Cold-smoked salmon with homemade butter and bro...       0.0     0.0     0.0   \n",
       " Fillet of beef stroganoff with riz pilaff               0.0     0.0     0.0   \n",
       "Venison massaman curry                                   0.0     0.0     0.0   \n",
       "A medley of shellfish with baby vegetables               0.0     0.0     0.0   \n",
       "Simple layered salad                                     0.0     0.0     0.0   \n",
       "Aberdeen butteries (Rowies)                              0.0     0.0     0.0   \n",
       "Abundant steamed sea bass and seasonal clams wi...       0.0     0.0     0.0   \n",
       "Acacia honey-glazed chicken breast with tomato,...       0.0     0.0     0.0   \n",
       "Ackee and saltfish                                       0.0     0.0     0.0   \n",
       "A classic sponge cake (with passion fruit filling)       0.0     0.0     0.0   \n",
       "A creamy, crunchy fruit sundae                           0.0     0.0     0.0   \n",
       "Adhraki gosht (lamb masala in a tomato and ging...       0.0     0.0     0.0   \n",
       "Affini tea                                               0.0     0.0     0.0   \n",
       "Aged sirloin steak with Thai salad and toasted ...       0.0     0.0     0.0   \n",
       "Aglio e peperoncino                                      0.0     0.0     0.0   \n",
       "Agnello alla menta con insalata calda (Italian ...       0.0     0.0     0.0   \n",
       "A great dressing for oysters                             0.0     0.0     0.0   \n",
       "Aïoli                                                    0.0     0.0     0.0   \n",
       "Aji de gallina                                           0.0     0.0     0.0   \n",
       "Ajitsuke tamago (Japanese pickled eggs)                  0.0     0.0     0.0   \n",
       "Ajwain parathas                                          0.0     0.0     0.0   \n",
       "Albanian baked lamb with rice (Tavë kosi)                0.0     0.0     0.0   \n",
       "Albondigas (spicy Mexican meatballs with red rice)       0.0     0.0     0.0   \n",
       "Prawns al cremat with a Little Gem, dandelion a...       0.0     0.0     0.0   \n",
       "...                                                      ...     ...     ...   \n",
       "Salt and pepper ‘popcorn’ prawns with tomato an...       0.0     0.0     0.0   \n",
       "Salt and pepper Sichuan prawns with soy chilli ...       0.0     0.0     0.0   \n",
       "Salt baked potatoes with chorizo mayonnaise and...       0.0     0.0     0.0   \n",
       "Salt baked sea bass with pesto and crispy pance...       0.0     0.0     0.0   \n",
       "Salt baked seabass with a fennel salad                   0.0     0.0     0.0   \n",
       "Salt beef with a fried egg, gooseberry ketchup ...       0.0     0.0     0.0   \n",
       "Salt cod brandade                                        0.0     0.0     0.0   \n",
       "Salt cod brandade with seared squid                      0.0     0.0     0.0   \n",
       "Salt cod with deep fried cauliflower and pepper...       0.0     0.0     0.0   \n",
       "Salt fish fritters                                       0.0     0.0     0.0   \n",
       "Salt liquorice caramels                                  0.0     0.0     0.0   \n",
       "Salt marsh lamb cooked with wild sea herbs and ...       0.0     0.0     0.0   \n",
       "Salt pork belly with split pea purée and sauerk...       0.0     0.0     0.0   \n",
       "Salt and chilli squid with hot and sour dipping...       0.0     0.0     0.0   \n",
       "Salt and pepper buttered samphire                        0.0     0.0     0.0   \n",
       "Salt and pepper chilli squid with pak choi               0.0     0.0     0.0   \n",
       "Salt and peppered steak with sweet potato mash,...       0.0     0.0     0.0   \n",
       "Salt and pepper roast loin of pork with curried...       0.0     0.0     0.0   \n",
       "Salt and vinegar sautéed potatoes                        0.0     0.0     0.0   \n",
       "Salt-baked sea bass with sorrel hollandaise              0.0     0.0     0.0   \n",
       "Salt beef and horseradish mash                           0.0     0.0     0.0   \n",
       "Salt chilli prawns                                       0.0     0.0     0.0   \n",
       "Salt chilli squid with salsa                             0.0     0.0     0.0   \n",
       "Pollack and king prawn fishcakes                         0.0     0.0     0.0   \n",
       "Salt-crusted sea bass                                    0.0     0.0     0.0   \n",
       "Salt-crusted whole sea bass with fennel and roc...       0.0     0.0     0.0   \n",
       "Salted caramel millionaire’s shortbread                  0.0     0.0     0.0   \n",
       "Salted caramel and chocolate mousse                      0.0     0.0     0.0   \n",
       "Salted caramel and coffee éclairs                        0.0     0.0     0.0   \n",
       "Salted caramel and apple rolls                           0.0     0.0     0.0   \n",
       "\n",
       "                                                   agar-agar  \n",
       "Ten-minute pizza                                         0.0  \n",
       "15 minute pasta                                          0.0  \n",
       "3D biscuits                                              0.0  \n",
       "Lemon curd ice cream                                     0.0  \n",
       " Banoffee millefeuilles with chocolate and cara...       0.0  \n",
       " Chicken chasseur with creamy mash                       0.0  \n",
       "Cold-smoked salmon with homemade butter and bro...       0.0  \n",
       " Fillet of beef stroganoff with riz pilaff               0.0  \n",
       "Venison massaman curry                                   0.0  \n",
       "A medley of shellfish with baby vegetables               0.0  \n",
       "Simple layered salad                                     0.0  \n",
       "Aberdeen butteries (Rowies)                              0.0  \n",
       "Abundant steamed sea bass and seasonal clams wi...       0.0  \n",
       "Acacia honey-glazed chicken breast with tomato,...       0.0  \n",
       "Ackee and saltfish                                       0.0  \n",
       "A classic sponge cake (with passion fruit filling)       0.0  \n",
       "A creamy, crunchy fruit sundae                           0.0  \n",
       "Adhraki gosht (lamb masala in a tomato and ging...       0.0  \n",
       "Affini tea                                               0.0  \n",
       "Aged sirloin steak with Thai salad and toasted ...       0.0  \n",
       "Aglio e peperoncino                                      0.0  \n",
       "Agnello alla menta con insalata calda (Italian ...       0.0  \n",
       "A great dressing for oysters                             0.0  \n",
       "Aïoli                                                    0.0  \n",
       "Aji de gallina                                           0.0  \n",
       "Ajitsuke tamago (Japanese pickled eggs)                  0.0  \n",
       "Ajwain parathas                                          0.0  \n",
       "Albanian baked lamb with rice (Tavë kosi)                0.0  \n",
       "Albondigas (spicy Mexican meatballs with red rice)       0.0  \n",
       "Prawns al cremat with a Little Gem, dandelion a...       0.0  \n",
       "...                                                      ...  \n",
       "Salt and pepper ‘popcorn’ prawns with tomato an...       0.0  \n",
       "Salt and pepper Sichuan prawns with soy chilli ...       0.0  \n",
       "Salt baked potatoes with chorizo mayonnaise and...       0.0  \n",
       "Salt baked sea bass with pesto and crispy pance...       0.0  \n",
       "Salt baked seabass with a fennel salad                   0.0  \n",
       "Salt beef with a fried egg, gooseberry ketchup ...       0.0  \n",
       "Salt cod brandade                                        0.0  \n",
       "Salt cod brandade with seared squid                      0.0  \n",
       "Salt cod with deep fried cauliflower and pepper...       0.0  \n",
       "Salt fish fritters                                       0.0  \n",
       "Salt liquorice caramels                                  0.0  \n",
       "Salt marsh lamb cooked with wild sea herbs and ...       0.0  \n",
       "Salt pork belly with split pea purée and sauerk...       0.0  \n",
       "Salt and chilli squid with hot and sour dipping...       0.0  \n",
       "Salt and pepper buttered samphire                        0.0  \n",
       "Salt and pepper chilli squid with pak choi               0.0  \n",
       "Salt and peppered steak with sweet potato mash,...       0.0  \n",
       "Salt and pepper roast loin of pork with curried...       0.0  \n",
       "Salt and vinegar sautéed potatoes                        0.0  \n",
       "Salt-baked sea bass with sorrel hollandaise              0.0  \n",
       "Salt beef and horseradish mash                           0.0  \n",
       "Salt chilli prawns                                       0.0  \n",
       "Salt chilli squid with salsa                             0.0  \n",
       "Pollack and king prawn fishcakes                         0.0  \n",
       "Salt-crusted sea bass                                    0.0  \n",
       "Salt-crusted whole sea bass with fennel and roc...       0.0  \n",
       "Salted caramel millionaire’s shortbread                  0.0  \n",
       "Salted caramel and chocolate mousse                      0.0  \n",
       "Salted caramel and coffee éclairs                        0.0  \n",
       "Salted caramel and apple rolls                           0.0  \n",
       "\n",
       "[8125 rows x 1818 columns]>"
      ]
     },
     "execution_count": 143,
     "metadata": {},
     "output_type": "execute_result"
    }
   ],
   "source": [
    "DF.head"
   ]
  },
  {
   "cell_type": "code",
   "execution_count": 67,
   "metadata": {
    "collapsed": false
   },
   "outputs": [
    {
     "data": {
      "text/plain": [
       "<bound method NDFrame.head of                                                    plain flour olive oil  \\\n",
       "Ten-minute pizza                                           250         8   \n",
       "Italian-style stuffed marrow                                 1         0   \n",
       "Italian sausage, broad beans and peas                        0         2   \n",
       "Italian style meatballs with courgette ‘tagliat...           0         0   \n",
       "Italian summer strawberry 'tiramisu'                         0         0   \n",
       "\n",
       "                                                   water salt sunflower oil  \\\n",
       "Ten-minute pizza                                       2    1             0   \n",
       "Italian-style stuffed marrow                           0    0             1   \n",
       "Italian sausage, broad beans and peas                  0    0             0   \n",
       "Italian style meatballs with courgette ‘tagliat...     0    0             0   \n",
       "Italian summer strawberry 'tiramisu'                   0    0             0   \n",
       "\n",
       "                                                   onion carrots celery  \\\n",
       "Ten-minute pizza                                       0       0      0   \n",
       "Italian-style stuffed marrow                           1       2      2   \n",
       "Italian sausage, broad beans and peas                  0       0      0   \n",
       "Italian style meatballs with courgette ‘tagliat...     1       0      0   \n",
       "Italian summer strawberry 'tiramisu'                   0       0      0   \n",
       "\n",
       "                                                   cloves sausages  \\\n",
       "Ten-minute pizza                                        0        0   \n",
       "Italian-style stuffed marrow                            2       12   \n",
       "Italian sausage, broad beans and peas                   0        0   \n",
       "Italian style meatballs with courgette ‘tagliat...      0        0   \n",
       "Italian summer strawberry 'tiramisu'                    0        0   \n",
       "\n",
       "                                                       ...      \\\n",
       "Ten-minute pizza                                       ...       \n",
       "Italian-style stuffed marrow                           ...       \n",
       "Italian sausage, broad beans and peas                  ...       \n",
       "Italian style meatballs with courgette ‘tagliat...     ...       \n",
       "Italian summer strawberry 'tiramisu'                   ...       \n",
       "\n",
       "                                                   chopped tomatoes orange  \\\n",
       "Ten-minute pizza                                                  0      0   \n",
       "Italian-style stuffed marrow                                      0      0   \n",
       "Italian sausage, broad beans and peas                             0      0   \n",
       "Italian style meatballs with courgette ‘tagliat...              227      0   \n",
       "Italian summer strawberry 'tiramisu'                              0      1   \n",
       "\n",
       "                                                   liqueur biscuits eggs  \\\n",
       "Ten-minute pizza                                         0        0    0   \n",
       "Italian-style stuffed marrow                             0        0    0   \n",
       "Italian sausage, broad beans and peas                    0        0    0   \n",
       "Italian style meatballs with courgette ‘tagliat...       0        0    0   \n",
       "Italian summer strawberry 'tiramisu'                     3       30    6   \n",
       "\n",
       "                                                   double cream mascarpone  \\\n",
       "Ten-minute pizza                                              0          0   \n",
       "Italian-style stuffed marrow                                  0          0   \n",
       "Italian sausage, broad beans and peas                         0          0   \n",
       "Italian style meatballs with courgette ‘tagliat...            0          0   \n",
       "Italian summer strawberry 'tiramisu'                        325        500   \n",
       "\n",
       "                                                   vanilla extract  \\\n",
       "Ten-minute pizza                                                 0   \n",
       "Italian-style stuffed marrow                                     0   \n",
       "Italian sausage, broad beans and peas                            0   \n",
       "Italian style meatballs with courgette ‘tagliat...               0   \n",
       "Italian summer strawberry 'tiramisu'                             2   \n",
       "\n",
       "                                                   strawberries icing sugar  \n",
       "Ten-minute pizza                                              0           0  \n",
       "Italian-style stuffed marrow                                  0           0  \n",
       "Italian sausage, broad beans and peas                         0           0  \n",
       "Italian style meatballs with courgette ‘tagliat...            0           0  \n",
       "Italian summer strawberry 'tiramisu'                        250           3  \n",
       "\n",
       "[5 rows x 44 columns]>"
      ]
     },
     "execution_count": 67,
     "metadata": {},
     "output_type": "execute_result"
    }
   ],
   "source": [
    "#DF.loc[temptitle]=0\n",
    "\n",
    "DF.head"
   ]
  },
  {
   "cell_type": "code",
   "execution_count": 144,
   "metadata": {
    "collapsed": true
   },
   "outputs": [],
   "source": [
    "DF.to_csv('8000out_csv.csv')"
   ]
  },
  {
   "cell_type": "code",
   "execution_count": 1,
   "metadata": {
    "collapsed": true
   },
   "outputs": [],
   "source": [
    "import pandas as pd\n",
    "DF=pd.read_csv('8000out_csv.csv')"
   ]
  },
  {
   "cell_type": "code",
   "execution_count": 2,
   "metadata": {
    "collapsed": false
   },
   "outputs": [
    {
     "ename": "ValueError",
     "evalue": "could not convert string to float: 'Salted caramel and apple rolls'",
     "output_type": "error",
     "traceback": [
      "\u001b[0;31m---------------------------------------------------------------------------\u001b[0m",
      "\u001b[0;31mValueError\u001b[0m                                Traceback (most recent call last)",
      "\u001b[0;32m<ipython-input-2-4500b7e68ac6>\u001b[0m in \u001b[0;36m<module>\u001b[0;34m()\u001b[0m\n\u001b[1;32m      7\u001b[0m \u001b[0;34m\u001b[0m\u001b[0m\n\u001b[1;32m      8\u001b[0m \u001b[0msklearn_pca\u001b[0m \u001b[0;34m=\u001b[0m \u001b[0msklearnPCA\u001b[0m\u001b[0;34m(\u001b[0m\u001b[0mn_components\u001b[0m\u001b[0;34m=\u001b[0m\u001b[0;36m5\u001b[0m\u001b[0;34m)\u001b[0m\u001b[0;34m\u001b[0m\u001b[0m\n\u001b[0;32m----> 9\u001b[0;31m \u001b[0msklearn_transf\u001b[0m \u001b[0;34m=\u001b[0m \u001b[0msklearn_pca\u001b[0m\u001b[0;34m.\u001b[0m\u001b[0mfit_transform\u001b[0m\u001b[0;34m(\u001b[0m\u001b[0mDF\u001b[0m\u001b[0;34m)\u001b[0m\u001b[0;34m\u001b[0m\u001b[0m\n\u001b[0m",
      "\u001b[0;32m/Users/sjiang/anaconda/lib/python3.5/site-packages/sklearn/decomposition/pca.py\u001b[0m in \u001b[0;36mfit_transform\u001b[0;34m(self, X, y)\u001b[0m\n\u001b[1;32m    239\u001b[0m \u001b[0;34m\u001b[0m\u001b[0m\n\u001b[1;32m    240\u001b[0m         \"\"\"\n\u001b[0;32m--> 241\u001b[0;31m         \u001b[0mU\u001b[0m\u001b[0;34m,\u001b[0m \u001b[0mS\u001b[0m\u001b[0;34m,\u001b[0m \u001b[0mV\u001b[0m \u001b[0;34m=\u001b[0m \u001b[0mself\u001b[0m\u001b[0;34m.\u001b[0m\u001b[0m_fit\u001b[0m\u001b[0;34m(\u001b[0m\u001b[0mX\u001b[0m\u001b[0;34m)\u001b[0m\u001b[0;34m\u001b[0m\u001b[0m\n\u001b[0m\u001b[1;32m    242\u001b[0m         \u001b[0mU\u001b[0m \u001b[0;34m=\u001b[0m \u001b[0mU\u001b[0m\u001b[0;34m[\u001b[0m\u001b[0;34m:\u001b[0m\u001b[0;34m,\u001b[0m \u001b[0;34m:\u001b[0m\u001b[0mself\u001b[0m\u001b[0;34m.\u001b[0m\u001b[0mn_components_\u001b[0m\u001b[0;34m]\u001b[0m\u001b[0;34m\u001b[0m\u001b[0m\n\u001b[1;32m    243\u001b[0m \u001b[0;34m\u001b[0m\u001b[0m\n",
      "\u001b[0;32m/Users/sjiang/anaconda/lib/python3.5/site-packages/sklearn/decomposition/pca.py\u001b[0m in \u001b[0;36m_fit\u001b[0;34m(self, X)\u001b[0m\n\u001b[1;32m    266\u001b[0m             \u001b[0mrequested\u001b[0m\u001b[0;34m.\u001b[0m\u001b[0;34m\u001b[0m\u001b[0m\n\u001b[1;32m    267\u001b[0m         \"\"\"\n\u001b[0;32m--> 268\u001b[0;31m         \u001b[0mX\u001b[0m \u001b[0;34m=\u001b[0m \u001b[0mcheck_array\u001b[0m\u001b[0;34m(\u001b[0m\u001b[0mX\u001b[0m\u001b[0;34m)\u001b[0m\u001b[0;34m\u001b[0m\u001b[0m\n\u001b[0m\u001b[1;32m    269\u001b[0m         \u001b[0mn_samples\u001b[0m\u001b[0;34m,\u001b[0m \u001b[0mn_features\u001b[0m \u001b[0;34m=\u001b[0m \u001b[0mX\u001b[0m\u001b[0;34m.\u001b[0m\u001b[0mshape\u001b[0m\u001b[0;34m\u001b[0m\u001b[0m\n\u001b[1;32m    270\u001b[0m         \u001b[0mX\u001b[0m \u001b[0;34m=\u001b[0m \u001b[0mas_float_array\u001b[0m\u001b[0;34m(\u001b[0m\u001b[0mX\u001b[0m\u001b[0;34m,\u001b[0m \u001b[0mcopy\u001b[0m\u001b[0;34m=\u001b[0m\u001b[0mself\u001b[0m\u001b[0;34m.\u001b[0m\u001b[0mcopy\u001b[0m\u001b[0;34m)\u001b[0m\u001b[0;34m\u001b[0m\u001b[0m\n",
      "\u001b[0;32m/Users/sjiang/anaconda/lib/python3.5/site-packages/sklearn/utils/validation.py\u001b[0m in \u001b[0;36mcheck_array\u001b[0;34m(array, accept_sparse, dtype, order, copy, force_all_finite, ensure_2d, allow_nd, ensure_min_samples, ensure_min_features, warn_on_dtype, estimator)\u001b[0m\n\u001b[1;32m    391\u001b[0m         \u001b[0;31m# make sure we acually converted to numeric:\u001b[0m\u001b[0;34m\u001b[0m\u001b[0;34m\u001b[0m\u001b[0m\n\u001b[1;32m    392\u001b[0m         \u001b[0;32mif\u001b[0m \u001b[0mdtype_numeric\u001b[0m \u001b[0;32mand\u001b[0m \u001b[0marray\u001b[0m\u001b[0;34m.\u001b[0m\u001b[0mdtype\u001b[0m\u001b[0;34m.\u001b[0m\u001b[0mkind\u001b[0m \u001b[0;34m==\u001b[0m \u001b[0;34m\"O\"\u001b[0m\u001b[0;34m:\u001b[0m\u001b[0;34m\u001b[0m\u001b[0m\n\u001b[0;32m--> 393\u001b[0;31m             \u001b[0marray\u001b[0m \u001b[0;34m=\u001b[0m \u001b[0marray\u001b[0m\u001b[0;34m.\u001b[0m\u001b[0mastype\u001b[0m\u001b[0;34m(\u001b[0m\u001b[0mnp\u001b[0m\u001b[0;34m.\u001b[0m\u001b[0mfloat64\u001b[0m\u001b[0;34m)\u001b[0m\u001b[0;34m\u001b[0m\u001b[0m\n\u001b[0m\u001b[1;32m    394\u001b[0m         \u001b[0;32mif\u001b[0m \u001b[0;32mnot\u001b[0m \u001b[0mallow_nd\u001b[0m \u001b[0;32mand\u001b[0m \u001b[0marray\u001b[0m\u001b[0;34m.\u001b[0m\u001b[0mndim\u001b[0m \u001b[0;34m>=\u001b[0m \u001b[0;36m3\u001b[0m\u001b[0;34m:\u001b[0m\u001b[0;34m\u001b[0m\u001b[0m\n\u001b[1;32m    395\u001b[0m             raise ValueError(\"Found array with dim %d. %s expected <= 2.\"\n",
      "\u001b[0;31mValueError\u001b[0m: could not convert string to float: 'Salted caramel and apple rolls'"
     ]
    }
   ],
   "source": [
    "from sklearn.decomposition import PCA as sklearnPCA\n",
    "import numpy as np\n",
    "\n",
    "from matplotlib import pyplot as plt\n",
    "from mpl_toolkits.mplot3d import Axes3D\n",
    "from mpl_toolkits.mplot3d import proj3d\n",
    "\n",
    "sklearn_pca = sklearnPCA(n_components=5)\n",
    "sklearn_transf = sklearn_pca.fit_transform(DF)"
   ]
  },
  {
   "cell_type": "code",
   "execution_count": 149,
   "metadata": {
    "collapsed": false
   },
   "outputs": [
    {
     "data": {
      "text/plain": [
       "(8125, 5)"
      ]
     },
     "execution_count": 149,
     "metadata": {},
     "output_type": "execute_result"
    }
   ],
   "source": [
    "sklearn_transf.shape"
   ]
  },
  {
   "cell_type": "code",
   "execution_count": 150,
   "metadata": {
    "collapsed": false
   },
   "outputs": [
    {
     "data": {
      "image/png": "[encoded data removed]",
      "text/plain": [
       "<matplotlib.figure.Figure at 0x3c8821978>"
      ]
     },
     "metadata": {},
     "output_type": "display_data"
    }
   ],
   "source": [
    "\n",
    "plt.plot(sklearn_transf[0:20,0],sklearn_transf[0:20,1], 'o', markersize=7, color='blue', alpha=0.5, label='class1')\n",
    "plt.plot(sklearn_transf[20:40,0], sklearn_transf[20:40,1], '^', markersize=7, color='red', alpha=0.5, label='class2')\n",
    "\n",
    "plt.xlabel('x_values')\n",
    "plt.ylabel('y_values')\n",
    "#plt.xlim([-4,4])\n",
    "#plt.ylim([-4,4])\n",
    "#plt.legend()\n",
    "#plt.title('Transformed samples with class labels from matplotlib.mlab.PCA()')\n",
    "\n",
    "plt.show()"
   ]
  },
  {
   "cell_type": "code",
   "execution_count": 162,
   "metadata": {
    "collapsed": false
   },
   "outputs": [
    {
     "data": {
      "image/png": "[encoded data removed]",
      "text/plain": [
       "<matplotlib.figure.Figure at 0x3c8855278>"
      ]
     },
     "metadata": {},
     "output_type": "display_data"
    }
   ],
   "source": [
    "plt.plot(sklearn_transf[:,1], sklearn_transf[:,0], '^', markersize=7, color='red', alpha=0.5, label='class2')\n",
    "\n",
    "plt.show()"
   ]
  },
  {
   "cell_type": "code",
   "execution_count": 167,
   "metadata": {
    "collapsed": false
   },
   "outputs": [
    {
     "data": {
      "image/png": "[encoded data removed]",
      "text/plain": [
       "<matplotlib.figure.Figure at 0x3d139b898>"
      ]
     },
     "metadata": {},
     "output_type": "display_data"
    }
   ],
   "source": [
    "from mpl_toolkits.mplot3d import Axes3D\n",
    "from sklearn.cluster import KMeans\n",
    "from sklearn import datasets\n",
    "\n",
    "est=KMeans(n_clusters=4)\n",
    "name='cluster=4'\n",
    "fignum=1\n",
    "\n",
    "fig = plt.figure(fignum, figsize=(4, 3))\n",
    "plt.clf()\n",
    "ax = Axes3D(fig, rect=[0, 0, .95, 1], elev=48, azim=134)\n",
    "\n",
    "plt.cla()\n",
    "est.fit(sklearn_transf)\n",
    "labels = est.labels_\n",
    "\n",
    "ax.scatter(sklearn_transf[:, 1], sklearn_transf[:, 0], sklearn_transf[:, 2], c=labels.astype(np.float))\n",
    "\n",
    "ax.w_xaxis.set_ticklabels([])\n",
    "ax.w_yaxis.set_ticklabels([])\n",
    "ax.w_zaxis.set_ticklabels([])\n",
    "ax.set_xlabel('PCA1')\n",
    "ax.set_ylabel('PCA2')\n",
    "ax.set_zlabel('PCA3')\n",
    "fignum = fignum + 1"
   ]
  },
  {
   "cell_type": "code",
   "execution_count": 199,
   "metadata": {
    "collapsed": false
   },
   "outputs": [
    {
     "data": {
      "text/plain": [
       "array([   0,    2,    4,   11,   15,   33,   35,   48,   66,   79,   86,\n",
       "         90,   93,   94,   95,   99,  100,  102,  104,  108,  111,  115,\n",
       "        116,  122,  134,  141,  143,  146,  155,  160,  170,  176,  177,\n",
       "        180,  187,  188,  226,  243,  262,  287,  319,  320,  326,  332,\n",
       "        353,  357,  391,  466,  478,  481,  497,  502,  506,  511,  515,\n",
       "        518,  535,  574,  579,  608,  661,  664,  707,  709,  723,  727,\n",
       "        729,  730,  732,  735,  747,  778,  784,  792,  796,  797,  798,\n",
       "        799,  801,  814,  815,  820,  823,  825,  826,  848,  879,  885,\n",
       "        890,  894,  923,  942,  958,  965, 1020, 1023, 1087, 1088, 1091,\n",
       "       1123, 1164, 1175, 1182, 1188, 1196, 1202, 1205, 1208, 1224, 1225,\n",
       "       1232, 1288, 1293, 1296, 1300, 1302, 1323, 1349, 1355, 1357, 1358,\n",
       "       1376, 1396, 1397, 1398, 1400, 1435, 1446, 1460, 1551, 1552, 1559,\n",
       "       1572, 1575, 1576, 1578, 1588, 1591, 1602, 1606, 1648, 1651, 1655,\n",
       "       1704, 1708, 1718, 1719, 1721, 1735, 1752, 1755, 1758, 1761, 1764,\n",
       "       1765, 1797, 1861, 1930, 1962, 1997, 2007, 2009, 2010, 2013, 2014,\n",
       "       2020, 2021, 2025, 2026, 2027, 2037, 2038, 2043, 2044, 2045, 2047,\n",
       "       2049, 2051, 2052, 2053, 2057, 2059, 2061, 2066, 2067, 2071, 2073,\n",
       "       2074, 2075, 2076, 2077, 2084, 2086, 2089, 2100, 2101, 2103, 2116,\n",
       "       2117, 2120, 2122, 2123, 2124, 2125, 2133, 2136, 2139, 2140, 2141,\n",
       "       2149, 2156, 2163, 2184, 2194, 2197, 2198, 2223, 2225, 2227, 2229,\n",
       "       2239, 2248, 2262, 2277, 2278, 2280, 2287, 2288, 2289, 2290, 2292,\n",
       "       2294, 2297, 2299, 2308, 2319, 2321, 2328, 2330, 2331, 2332, 2333,\n",
       "       2342, 2344, 2346, 2368, 2372, 2383, 2387, 2391, 2412, 2422, 2426,\n",
       "       2429, 2430, 2485, 2502, 2512, 2520, 2521, 2532, 2533, 2546, 2584,\n",
       "       2621, 2723, 2729, 2804, 2819, 2839, 2851, 2864, 2865, 2872, 2900,\n",
       "       2901, 2902, 2912, 2917, 2924, 2936, 2937, 2948, 2954, 2959, 3013,\n",
       "       3019, 3025, 3026, 3041, 3051, 3109, 3114, 3115, 3119, 3122, 3130,\n",
       "       3132, 3146, 3148, 3152, 3177, 3182, 3185, 3190, 3191, 3210, 3224,\n",
       "       3233, 3237, 3277, 3284, 3291, 3345, 3346, 3355, 3394, 3396, 3408,\n",
       "       3409, 3418, 3425, 3426, 3432, 3446, 3484, 3494, 3495, 3498, 3506,\n",
       "       3507, 3508, 3556, 3570, 3571, 3572, 3592, 3594, 3595, 3601, 3609,\n",
       "       3612, 3626, 3655, 3656, 3660, 3661, 3672, 3674, 3682, 3683, 3688,\n",
       "       3689, 3691, 3692, 3693, 3705, 3728, 3739, 3745, 3751, 3755, 3771,\n",
       "       3778, 3791, 3804, 3814, 3816, 4039, 4053, 4057, 4058, 4078, 4098,\n",
       "       4118, 4119, 4121, 4138, 4139, 4152, 4155, 4160, 4162, 4185, 4189,\n",
       "       4236, 4249, 4259, 4262, 4263, 4277, 4278, 4286, 4342, 4356, 4357,\n",
       "       4385, 4394, 4449, 4459, 4488, 4502, 4504, 4511, 4514, 4515, 4533,\n",
       "       4534, 4535, 4538, 4552, 4595, 4602, 4605, 4607, 4613, 4640, 4662,\n",
       "       4684, 4704, 4833, 4834, 4835, 4846, 4847, 4849, 4851, 4867, 4868,\n",
       "       4873, 4891, 4901, 4904, 4911, 4915, 4917, 4918, 4919, 4930, 4931,\n",
       "       4934, 4938, 4953, 4965, 4986, 4993, 5012, 5056, 5085, 5091, 5113,\n",
       "       5133, 5149, 5186, 5189, 5190, 5191, 5222, 5223, 5237, 5251, 5269,\n",
       "       5270, 5300, 5303, 5314, 5315, 5319, 5321, 5326, 5328, 5330, 5332,\n",
       "       5335, 5336, 5339, 5341, 5346, 5374, 5409, 5419, 5421, 5458, 5469,\n",
       "       5470, 5475, 5483, 5484, 5486, 5501, 5503, 5505, 5508, 5511, 5515,\n",
       "       5517, 5520, 5524, 5525, 5528, 5544, 5571, 5572, 5610, 5654, 5667,\n",
       "       5678, 5701, 5710, 5733, 5747, 5750, 5753, 5754, 5768, 5775, 5786,\n",
       "       5812, 5827, 5835, 5885, 5889, 5891, 5899, 5905, 5909, 5910, 5911,\n",
       "       5917, 5918, 5921, 5932, 5961, 6001, 6002, 6057, 6075, 6084, 6201,\n",
       "       6236, 6247, 6251, 6261, 6278, 6282, 6292, 6299, 6337, 6345, 6369,\n",
       "       6390, 6401, 6410, 6413, 6415, 6416, 6450, 6542, 6570, 6582, 6585,\n",
       "       6591, 6606, 6607, 6610, 6638, 6675, 6678, 6683, 6685, 6686, 6687,\n",
       "       6761, 6776, 6780, 6794, 6993, 6997, 6998, 7073, 7077, 7079, 7081,\n",
       "       7097, 7104, 7144, 7155, 7162, 7170, 7171, 7184, 7189, 7218, 7242,\n",
       "       7259, 7262, 7264, 7265, 7266, 7267, 7275, 7278, 7290, 7292, 7293,\n",
       "       7294, 7298, 7310, 7313, 7340, 7343, 7352, 7353, 7360, 7393, 7396,\n",
       "       7397, 7398, 7400, 7408, 7410, 7415, 7423, 7445, 7469, 7470, 7472,\n",
       "       7476, 7479, 7537, 7559, 7618, 7690, 7876, 7913, 7930, 7939, 7953,\n",
       "       7955, 7958, 7968, 7969, 7981, 7987, 8021, 8026, 8047, 8121])"
      ]
     },
     "execution_count": 199,
     "metadata": {},
     "output_type": "execute_result"
    }
   ],
   "source": [
    "index1=where(labels==1)\n",
    "index1[0]"
   ]
  },
  {
   "cell_type": "code",
   "execution_count": 200,
   "metadata": {
    "collapsed": false
   },
   "outputs": [
    {
     "data": {
      "text/plain": [
       "(648, 1818)"
      ]
     },
     "execution_count": 200,
     "metadata": {},
     "output_type": "execute_result"
    }
   ],
   "source": [
    "group1=DF.iloc[index1[0],:]\n",
    "group1.shape"
   ]
  },
  {
   "cell_type": "code",
   "execution_count": 201,
   "metadata": {
    "collapsed": true
   },
   "outputs": [],
   "source": [
    "group2=group1[group1.columns[(group1 != 0).any()]]"
   ]
  },
  {
   "cell_type": "code",
   "execution_count": 202,
   "metadata": {
    "collapsed": false
   },
   "outputs": [
    {
     "data": {
      "text/plain": [
       "(648, 400)"
      ]
     },
     "execution_count": 202,
     "metadata": {},
     "output_type": "execute_result"
    }
   ],
   "source": [
    "group2.shape"
   ]
  },
  {
   "cell_type": "code",
   "execution_count": 212,
   "metadata": {
    "collapsed": false
   },
   "outputs": [],
   "source": [
    "from sklearn.decomposition import NMF\n",
    "model = NMF(n_components=10, init='random', random_state=0)\n",
    "W=model.fit_transform(group2.T) "
   ]
  },
  {
   "cell_type": "code",
   "execution_count": 213,
   "metadata": {
    "collapsed": false
   },
   "outputs": [],
   "source": [
    "H=model.components_"
   ]
  },
  {
   "cell_type": "code",
   "execution_count": 214,
   "metadata": {
    "collapsed": false
   },
   "outputs": [
    {
     "data": {
      "text/plain": [
       "(400, 10)"
      ]
     },
     "execution_count": 214,
     "metadata": {},
     "output_type": "execute_result"
    }
   ],
   "source": [
    "W.shape\n"
   ]
  },
  {
   "cell_type": "code",
   "execution_count": 220,
   "metadata": {
    "collapsed": false
   },
   "outputs": [],
   "source": [
    "NMFindex=group2.columns\n",
    "W_DF=pd.DataFrame(W, index=NMFindex)"
   ]
  },
  {
   "cell_type": "code",
   "execution_count": 228,
   "metadata": {
    "collapsed": false
   },
   "outputs": [],
   "source": [
    "temp=W_DF.loc[:,1]\n",
    "filteredtemp=temp[temp>0.09]"
   ]
  },
  {
   "cell_type": "code",
   "execution_count": 245,
   "metadata": {
    "collapsed": false
   },
   "outputs": [
    {
     "data": {
      "text/plain": [
       "3588"
      ]
     },
     "execution_count": 245,
     "metadata": {},
     "output_type": "execute_result"
    }
   ],
   "source": [
    "sum(sum(W_DF<0.09))"
   ]
  },
  {
   "cell_type": "code",
   "execution_count": 258,
   "metadata": {
    "collapsed": false
   },
   "outputs": [],
   "source": [
    "sma=1000000\n",
    "opi_ncom=0\n",
    "for ncom in range(100,200):\n",
    "    model = NMF(n_components=ncom, init='random', random_state=0)\n",
    "    W=model.fit_transform(group2.T) \n",
    "    W_DF=pd.DataFrame(W, index=NMFindex)\n",
    "    tempsma=sum(sum(W_DF>0.09))/ncom  # blank percentage\n",
    "    if tempsma<sma:\n",
    "        opi_ncom=ncom\n",
    "        sma=tempsma"
   ]
  },
  {
   "cell_type": "code",
   "execution_count": 257,
   "metadata": {
    "collapsed": false
   },
   "outputs": [
    {
     "name": "stdout",
     "output_type": "stream",
     "text": [
      "99\n",
      "5.8686868686868685\n"
     ]
    }
   ],
   "source": [
    "print(opi_ncom)\n",
    "print(sma)"
   ]
  },
  {
   "cell_type": "code",
   "execution_count": 259,
   "metadata": {
    "collapsed": false
   },
   "outputs": [
    {
     "name": "stdout",
     "output_type": "stream",
     "text": [
      "195\n",
      "3.4461538461538463\n"
     ]
    }
   ],
   "source": [
    "print(opi_ncom)\n",
    "print(sma)"
   ]
  },
  {
   "cell_type": "code",
   "execution_count": 262,
   "metadata": {
    "collapsed": false
   },
   "outputs": [],
   "source": [
    "model195 = NMF(n_components=195, init='random', random_state=0)\n",
    "W=model.fit_transform(group2.T) \n",
    "W_DF=pd.DataFrame(W, index=NMFindex)\n",
    "W_DF[W_DF<0.09]=0\n",
    "W_DF_SUM=sum(W_DF>0, axis=0)"
   ]
  },
  {
   "cell_type": "code",
   "execution_count": 266,
   "metadata": {
    "collapsed": false
   },
   "outputs": [
    {
     "data": {
      "text/plain": [
       "44"
      ]
     },
     "execution_count": 266,
     "metadata": {},
     "output_type": "execute_result"
    }
   ],
   "source": [
    "sum(W_DF_SUM==1)"
   ]
  },
  {
   "cell_type": "code",
   "execution_count": 270,
   "metadata": {
    "collapsed": false
   },
   "outputs": [
    {
     "data": {
      "text/plain": [
       "<matplotlib.axes._subplots.AxesSubplot at 0x3db318cf8>"
      ]
     },
     "execution_count": 270,
     "metadata": {},
     "output_type": "execute_result"
    },
    {
     "data": {
      "image/png": "[encoded data removed]",
      "text/plain": [
       "<matplotlib.figure.Figure at 0x3c91f27b8>"
      ]
     },
     "metadata": {},
     "output_type": "display_data"
    }
   ],
   "source": [
    "W_DF.iloc[0:10,0:10].plot(kind='bar', stacked=True)"
   ]
  },
  {
   "cell_type": "code",
   "execution_count": 286,
   "metadata": {
    "collapsed": false
   },
   "outputs": [],
   "source": [
    "W_DF.sort_values(W_DF.columns[0], inplace=True, ascending=False)  "
   ]
  },
  {
   "cell_type": "code",
   "execution_count": 291,
   "metadata": {
    "collapsed": false
   },
   "outputs": [
    {
     "data": {
      "text/plain": [
       "<matplotlib.axes._subplots.AxesSubplot at 0x3dd187278>"
      ]
     },
     "execution_count": 291,
     "metadata": {},
     "output_type": "execute_result"
    },
    {
     "data": {
      "image/png": "[encoded data removed]",
      "text/plain": [
       "<matplotlib.figure.Figure at 0x3db918a58>"
      ]
     },
     "metadata": {},
     "output_type": "display_data"
    }
   ],
   "source": [
    "log(W_DF.iloc[0:10,0:6]).plot(kind='bar', stacked=True)"
   ]
  },
  {
   "cell_type": "code",
   "execution_count": 307,
   "metadata": {
    "collapsed": false
   },
   "outputs": [
    {
     "data": {
      "text/plain": [
       "<matplotlib.axes._subplots.AxesSubplot at 0x3df0319b0>"
      ]
     },
     "execution_count": 307,
     "metadata": {},
     "output_type": "execute_result"
    },
    {
     "data": {
      "image/png": "[encoded data removed]",
      "text/plain": [
       "<matplotlib.figure.Figure at 0x3de874c88>"
      ]
     },
     "metadata": {},
     "output_type": "display_data"
    }
   ],
   "source": [
    "ins=[0,1,3,4,6,13,20,22]\n",
    "sum(W_DF>0,axis=1)[ins].plot(kind='bar')"
   ]
  },
  {
   "cell_type": "code",
   "execution_count": 304,
   "metadata": {
    "collapsed": false
   },
   "outputs": [
    {
     "data": {
      "text/plain": [
       "plain flour        41\n",
       "butter             78\n",
       "rice                2\n",
       "baking powder      13\n",
       "egg yolk            3\n",
       "egg yolks           2\n",
       "ling                2\n",
       "chopped             3\n",
       "demerara sugar      3\n",
       "egg wash            1\n",
       "bacon               3\n",
       "vanilla pod         1\n",
       "salt                4\n",
       "sugar               8\n",
       "beetroot            1\n",
       "carrots             3\n",
       "arrowroot           1\n",
       "water               5\n",
       "lemon               1\n",
       "ham                 2\n",
       "lemons              5\n",
       "crème fraîche       2\n",
       "parsley             6\n",
       "pepper              0\n",
       "dill                0\n",
       "vanilla essence     0\n",
       "egg                 3\n",
       "double cream        3\n",
       "orange juice        2\n",
       "lard                4\n",
       "                   ..\n",
       "oatmeal             1\n",
       "whisked             0\n",
       "almond extract      0\n",
       "total)              1\n",
       "strawberry jam      0\n",
       "flowers             0\n",
       "tonic               1\n",
       "stars               0\n",
       "chive               1\n",
       "Glendale)           1\n",
       "almond essence      0\n",
       "unpeeled            2\n",
       "possible.           0\n",
       "quatre-épices       0\n",
       "sifted              0\n",
       "lavender            0\n",
       "red mullets         1\n",
       "stone               0\n",
       "boeuf               0\n",
       "cayenne             0\n",
       "drizzle             1\n",
       "Amaretto            0\n",
       "Ricotta             0\n",
       "sea trout           2\n",
       "pralines            1\n",
       "needed)             0\n",
       "fleur de sel        0\n",
       "treacle             1\n",
       "chemists)           1\n",
       "cordial             0\n",
       "dtype: int64"
      ]
     },
     "execution_count": 304,
     "metadata": {},
     "output_type": "execute_result"
    }
   ],
   "source": [
    "sum(W_DF>0,axis=1)"
   ]
  },
  {
   "cell_type": "code",
   "execution_count": null,
   "metadata": {
    "collapsed": true
   },
   "outputs": [],
   "source": []
  }
 ],
 "metadata": {
  "kernelspec": {
   "display_name": "Python 3",
   "language": "python",
   "name": "python3"
  },
  "language_info": {
   "codemirror_mode": {
    "name": "ipython",
    "version": 3
   },
   "file_extension": ".py",
   "mimetype": "text/x-python",
   "name": "python",
   "nbconvert_exporter": "python",
   "pygments_lexer": "ipython3",
   "version": "3.5.1"
  }
 },
 "nbformat": 4,
 "nbformat_minor": 0
}
