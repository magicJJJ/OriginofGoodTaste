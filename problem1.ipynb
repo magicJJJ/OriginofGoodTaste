{
 "cells": [
  {
   "cell_type": "code",
   "execution_count": 1,
   "metadata": {
    "collapsed": true
   },
   "outputs": [],
   "source": [
    "import numpy as np\n",
    "import scipy as sp\n"
   ]
  },
  {
   "cell_type": "code",
   "execution_count": 2,
   "metadata": {
    "collapsed": true
   },
   "outputs": [],
   "source": [
    "M=np.array([[1,2,3],[4,5,6],[7,8,9],[-1,0,-1]])"
   ]
  },
  {
   "cell_type": "code",
   "execution_count": 11,
   "metadata": {
    "collapsed": false
   },
   "outputs": [
    {
     "data": {
      "text/plain": [
       "4"
      ]
     },
     "execution_count": 11,
     "metadata": {},
     "output_type": "execute_result"
    }
   ],
   "source": [
    "nx,ny=M.shape\n",
    "nx"
   ]
  },
  {
   "cell_type": "code",
   "execution_count": 103,
   "metadata": {
    "collapsed": false
   },
   "outputs": [
    {
     "data": {
      "text/plain": [
       "'\\ndef Horse_in_jump2(M, x,y):\\n    nx,ny=M.shape\\n    move={0:[1+x,2+y],\\n        1:[2+x,1+y],\\n         2:[-1+x,2+y],\\n         3:[-2+x,1+y],\\n         4:[1+x,-2+y],\\n         5:[2+x,-1+y],\\n         6:[-1+x,-2+y],\\n         7:[-2+x,-1+y]}\\n    newx=x\\n    newy=y\\n    while(True):\\n        #print(1)\\n        tempind=np.random.randint(8)\\n        newx=x+move[tempind][0]\\n        newy=y+move[tempind][1]\\n        if ((newx in range(nx))and(newy in range(ny))and(M[newx, newy]>=0)):\\n            break\\n    return [newx, newy, M[newx,newy]]     \\n'"
      ]
     },
     "execution_count": 103,
     "metadata": {},
     "output_type": "execute_result"
    }
   ],
   "source": [
    "def Horse_in_jump(M, x,y):\n",
    "    nx,ny=M.shape\n",
    "    move={0:[1,2],\n",
    "        1:[2,1],\n",
    "         2:[-1,2],\n",
    "         3:[-2,1],\n",
    "         4:[1,-2],\n",
    "         5:[2,-1],\n",
    "         6:[-1,-2],\n",
    "         7:[-2,-1]}\n",
    "    newx=x\n",
    "    newy=y\n",
    "    while(True):\n",
    "        #print(1)\n",
    "        tempind=np.random.randint(8)\n",
    "        newx=x+move[tempind][0]\n",
    "        newy=y+move[tempind][1]\n",
    "        if ((newx in range(nx))and(newy in range(ny))and(M[newx, newy]>=0)):\n",
    "            break\n",
    "    return [newx, newy, M[newx,newy]]        \n",
    "'''\n",
    "def Horse_in_jump2(M, x,y):\n",
    "    nx,ny=M.shape\n",
    "    move={0:[1+x,2+y],\n",
    "        1:[2+x,1+y],\n",
    "         2:[-1+x,2+y],\n",
    "         3:[-2+x,1+y],\n",
    "         4:[1+x,-2+y],\n",
    "         5:[2+x,-1+y],\n",
    "         6:[-1+x,-2+y],\n",
    "         7:[-2+x,-1+y]}\n",
    "    newx=x\n",
    "    newy=y\n",
    "    while(True):\n",
    "        #print(1)\n",
    "        tempind=np.random.randint(8)\n",
    "        newx=x+move[tempind][0]\n",
    "        newy=y+move[tempind][1]\n",
    "        if ((newx in range(nx))and(newy in range(ny))and(M[newx, newy]>=0)):\n",
    "            break\n",
    "    return [newx, newy, M[newx,newy]]     \n",
    "'''"
   ]
  },
  {
   "cell_type": "code",
   "execution_count": 100,
   "metadata": {
    "collapsed": false
   },
   "outputs": [
    {
     "data": {
      "text/plain": [
       "3"
      ]
     },
     "execution_count": 100,
     "metadata": {},
     "output_type": "execute_result"
    }
   ],
   "source": [
    "#test\n",
    "list(move.keys())[3]\n",
    "#newx,newy,temp=Horse_in_jump(M,3,1)\n",
    "#temp"
   ]
  },
  {
   "cell_type": "code",
   "execution_count": 85,
   "metadata": {
    "collapsed": false
   },
   "outputs": [],
   "source": [
    "def Horse_run(num_iter, T, M):\n",
    "    S=np.zeros(num_iter)\n",
    "    x,y=3,1\n",
    "   \n",
    "    for n in range(num_iter):\n",
    "        newx,newy=x,y\n",
    "        for tt in range(T):\n",
    "            newx,newy,temps=Horse_in_jump(M,newx,newy)\n",
    "            S[n]+=temps\n",
    "    return S                "
   ]
  },
  {
   "cell_type": "code",
   "execution_count": 128,
   "metadata": {
    "collapsed": true
   },
   "outputs": [],
   "source": [
    "def Horse_run_single(T, M):\n",
    "    S=0\n",
    "    x,y=3,1\n",
    "   \n",
    "    \n",
    "    newx,newy=x,y\n",
    "    for tt in range(T):\n",
    "        newx,newy,temps=Horse_in_jump(M,newx,newy)\n",
    "        S+=temps\n",
    "    return S  "
   ]
  },
  {
   "cell_type": "code",
   "execution_count": 133,
   "metadata": {
    "collapsed": false
   },
   "outputs": [
    {
     "data": {
      "text/plain": [
       "4"
      ]
     },
     "execution_count": 133,
     "metadata": {},
     "output_type": "execute_result"
    }
   ],
   "source": [
    "Horse_run_single(1,M)"
   ]
  },
  {
   "cell_type": "code",
   "execution_count": 127,
   "metadata": {
    "collapsed": false
   },
   "outputs": [
    {
     "name": "stdout",
     "output_type": "stream",
     "text": [
      "44.2232\n",
      "7.16294504795\n"
     ]
    }
   ],
   "source": [
    "#first blank\n",
    "num_iter=10000\n",
    "T=10\n",
    "S=Horse_run(num_iter,T,M)\n",
    "print(S.mean())\n",
    "print(S.std())"
   ]
  },
  {
   "cell_type": "code",
   "execution_count": 114,
   "metadata": {
    "collapsed": false
   },
   "outputs": [
    {
     "data": {
      "text/plain": [
       "6.9419305672125526"
      ]
     },
     "execution_count": 114,
     "metadata": {},
     "output_type": "execute_result"
    }
   ],
   "source": [
    "S.mean()\n",
    "S.std()"
   ]
  },
  {
   "cell_type": "code",
   "execution_count": 160,
   "metadata": {
    "collapsed": false
   },
   "outputs": [],
   "source": [
    "from joblib import Parallel, delayed\n",
    "import multiprocessing\n",
    "num_iter=1000000\n",
    "T=10\n",
    "num_cores = multiprocessing.cpu_count()\n",
    "results = Parallel(n_jobs=num_cores)(delayed(Horse_run_single)(T,M) for i in range(num_iter))"
   ]
  },
  {
   "cell_type": "code",
   "execution_count": 161,
   "metadata": {
    "collapsed": false
   },
   "outputs": [
    {
     "name": "stdout",
     "output_type": "stream",
     "text": [
      "44.156356\n",
      "7.2195837\n"
     ]
    }
   ],
   "source": [
    "#print(results.mean())\n",
    "#print(results.std())\n",
    "myarray = np.asarray(results)\n",
    "#print(myarray)\n",
    "print(myarray.mean())\n",
    "print(myarray.std())"
   ]
  },
  {
   "cell_type": "code",
   "execution_count": 162,
   "metadata": {
    "collapsed": false
   },
   "outputs": [],
   "source": [
    "from joblib import Parallel, delayed\n",
    "import multiprocessing\n",
    "num_iter=10000000\n",
    "T=10\n",
    "num_cores = multiprocessing.cpu_count()\n",
    "results_1E7 = Parallel(n_jobs=num_cores)(delayed(Horse_run_single)(T,M) for i in range(num_iter))"
   ]
  },
  {
   "cell_type": "code",
   "execution_count": 163,
   "metadata": {
    "collapsed": false
   },
   "outputs": [
    {
     "name": "stdout",
     "output_type": "stream",
     "text": [
      "44.1904332\n",
      "7.20757816443\n"
     ]
    }
   ],
   "source": [
    "myarray_1E7 = np.asarray(results_1E7)\n",
    "#print(myarray)\n",
    "print(myarray_1E7.mean())\n",
    "print(myarray_1E7.std())"
   ]
  },
  {
   "cell_type": "code",
   "execution_count": 164,
   "metadata": {
    "collapsed": true
   },
   "outputs": [],
   "source": [
    "from joblib import Parallel, delayed\n",
    "import multiprocessing\n",
    "num_iter=100000008\n",
    "T=10\n",
    "num_cores = multiprocessing.cpu_count()\n",
    "results_1E8 = Parallel(n_jobs=num_cores)(delayed(Horse_run_single)(T,M) for i in range(num_iter))"
   ]
  },
  {
   "cell_type": "code",
   "execution_count": 166,
   "metadata": {
    "collapsed": false
   },
   "outputs": [
    {
     "name": "stdout",
     "output_type": "stream",
     "text": [
      "44.1977059342\n",
      "7.20349783641\n"
     ]
    }
   ],
   "source": [
    "myarray_1E8 = np.asarray(results_1E8)\n",
    "print(myarray_1E8.mean())\n",
    "print(myarray_1E8.std())"
   ]
  },
  {
   "cell_type": "code",
   "execution_count": 172,
   "metadata": {
    "collapsed": false
   },
   "outputs": [
    {
     "name": "stdout",
     "output_type": "stream",
     "text": [
      "4.58772060298\n",
      "2.86042407357\n"
     ]
    }
   ],
   "source": [
    "print((myarray_1E8%10).mean())\n",
    "print((myarray_1E8%10).std())"
   ]
  },
  {
   "cell_type": "code",
   "execution_count": 175,
   "metadata": {
    "collapsed": false
   },
   "outputs": [
    {
     "data": {
      "text/plain": [
       "0.18046558932735376"
      ]
     },
     "execution_count": 175,
     "metadata": {},
     "output_type": "execute_result"
    }
   ],
   "source": [
    "sum(myarray_1E8%35==0)/sum(myarray_1E8%7==0)"
   ]
  },
  {
   "cell_type": "code",
   "execution_count": 167,
   "metadata": {
    "collapsed": true
   },
   "outputs": [],
   "source": [
    "from joblib import Parallel, delayed\n",
    "import multiprocessing\n",
    "num_iter=100000\n",
    "T=1024\n",
    "num_cores = multiprocessing.cpu_count()\n",
    "results_1024 = Parallel(n_jobs=num_cores)(delayed(Horse_run_single)(T,M) for i in range(num_iter))"
   ]
  },
  {
   "cell_type": "code",
   "execution_count": 168,
   "metadata": {
    "collapsed": false
   },
   "outputs": [
    {
     "name": "stdout",
     "output_type": "stream",
     "text": [
      "4606.41357\n",
      "70.7780869327\n"
     ]
    }
   ],
   "source": [
    "myarray_1024 = np.asarray(results_1024)\n",
    "print(myarray_1024.mean())\n",
    "print(myarray_1024.std())"
   ]
  },
  {
   "cell_type": "code",
   "execution_count": 169,
   "metadata": {
    "collapsed": true
   },
   "outputs": [],
   "source": [
    "from joblib import Parallel, delayed\n",
    "import multiprocessing\n",
    "num_iter=1000000\n",
    "T=1024\n",
    "num_cores = multiprocessing.cpu_count()\n",
    "results_1024_2 = Parallel(n_jobs=num_cores)(delayed(Horse_run_single)(T,M) for i in range(num_iter))"
   ]
  },
  {
   "cell_type": "code",
   "execution_count": 174,
   "metadata": {
    "collapsed": false
   },
   "outputs": [
    {
     "name": "stdout",
     "output_type": "stream",
     "text": [
      "4.498293\n",
      "2.87758424484\n"
     ]
    }
   ],
   "source": [
    "myarray_1024_2 = np.asarray(results_1024_2)\n",
    "print((myarray_1024_2%10).mean())\n",
    "print((myarray_1024_2%10).std())"
   ]
  },
  {
   "cell_type": "code",
   "execution_count": 176,
   "metadata": {
    "collapsed": false
   },
   "outputs": [
    {
     "data": {
      "text/plain": [
       "0.1150008751969193"
      ]
     },
     "execution_count": 176,
     "metadata": {},
     "output_type": "execute_result"
    }
   ],
   "source": [
    "sum(myarray_1024_2%(29*23)==0)/sum(myarray_1024_2%29==0)"
   ]
  },
  {
   "cell_type": "code",
   "execution_count": null,
   "metadata": {
    "collapsed": true
   },
   "outputs": [],
   "source": []
  }
 ],
 "metadata": {
  "kernelspec": {
   "display_name": "Python 3",
   "language": "python",
   "name": "python3"
  },
  "language_info": {
   "codemirror_mode": {
    "name": "ipython",
    "version": 3
   },
   "file_extension": ".py",
   "mimetype": "text/x-python",
   "name": "python",
   "nbconvert_exporter": "python",
   "pygments_lexer": "ipython3",
   "version": "3.5.1"
  }
 },
 "nbformat": 4,
 "nbformat_minor": 0
}
